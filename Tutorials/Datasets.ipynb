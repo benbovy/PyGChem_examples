{
 "metadata": {
  "name": "",
  "signature": "sha256:96b1f7ff35e084ecbf0e21916e7541c95cfa514b512b1773978f7fb5e8e3cf93"
 },
 "nbformat": 3,
 "nbformat_minor": 0,
 "worksheets": [
  {
   "cells": [
    {
     "cell_type": "heading",
     "level": 1,
     "metadata": {},
     "source": [
      "Handling CTM datasets"
     ]
    },
    {
     "cell_type": "markdown",
     "metadata": {},
     "source": [
      "This tutorial shows how to load and save datasets, and also how it can be manipulated.\n",
      "\n",
      "The `pygchem.datasets` module provides functions to load and save CTM datasets: "
     ]
    },
    {
     "cell_type": "code",
     "collapsed": false,
     "input": [
      "from pygchem import datasets"
     ],
     "language": "python",
     "metadata": {},
     "outputs": [],
     "prompt_number": 1
    },
    {
     "cell_type": "markdown",
     "metadata": {},
     "source": [
      "**NOTE: In the PyGChem development version, this module was previously named `datafields` and has been recently renamed to `datasets` (4-12-2014).**\n",
      "\n",
      "if\n",
      "\n",
      "    from pygchem import datasets\n",
      "\n",
      "doesn't work, try\n",
      "\n",
      "    import pygchem.datafields as datasets\n",
      "\n",
      "to use this notebook."
     ]
    },
    {
     "cell_type": "heading",
     "level": 2,
     "metadata": {},
     "source": [
      "The Iris backend"
     ]
    },
    {
     "cell_type": "markdown",
     "metadata": {},
     "source": [
      "PyGChem uses Iris (http://scitools.org.uk/iris/) for handling CTM datasets. Iris provides a data abstraction layer that is based on the Climate and Forecast (CF) data model (http://cfconventions.org/) and which allows to isolate analysis and visualisation code from data format specifics. It natively supports read/write access to the (CF)netCDF format. PyGChem currently adds support to the BPCH format and the netCDF files created with the GAMAP routines BPCH2NC and BPCH2COARDS (read access only).\n",
      "\n",
      "With Iris, a data field (data + metadata) relative to a particular phenomenon is represented by a `iris.cube.Cube` object (more info on Iris data strutures [here](http://scitools.org.uk/iris/docs/latest/userguide/iris_cubes.html)). Iris also supports basic data manipulation operations, such as arithmetic, interpolation, and statistics. This tutorial shows only a few examples. For a more detailled description of these features, see the [Iris user guide](http://scitools.org.uk/iris/docs/latest/userguide/index.html)."
     ]
    },
    {
     "cell_type": "heading",
     "level": 2,
     "metadata": {},
     "source": [
      "Datasets used in this tutorial"
     ]
    },
    {
     "cell_type": "markdown",
     "metadata": {},
     "source": [
      "This tutorial uses the datasets created by the 1-year GEOS-Chem benchmark simulations. These are available for download via anonymous FTP from <ftp://ftp.as.harvard.edu/gcgrid/geos-chem/>.\n",
      "\n",
      "For running the code cells below, you must specify the root folder of your local copy of these benchmarks: "
     ]
    },
    {
     "cell_type": "code",
     "collapsed": false,
     "input": [
      "bmk_root = '/home/benbovy/Aldebaran/ScientificResearch/geoschem'"
     ],
     "language": "python",
     "metadata": {},
     "outputs": [],
     "prompt_number": 2
    },
    {
     "cell_type": "heading",
     "level": 2,
     "metadata": {},
     "source": [
      "Loading datasets"
     ]
    },
    {
     "cell_type": "markdown",
     "metadata": {},
     "source": [
      "The function `pygchem.datasets.load` allows to load the content of a BPCH file or a netCDF file into a list of `iris.cube.Cube` objects. This function is just an alias of the `iris.load` function. Note that it doesn't load all the data into memory but enough information to select, manipulate and retreive the data.\n",
      "\n",
      "See the Iris documentation: [loading iris cubes](http://scitools.org.uk/iris/docs/latest/userguide/loading_iris_cubes.html) for more details."
     ]
    },
    {
     "cell_type": "markdown",
     "metadata": {},
     "source": [
      "cd into the 1-year benchmark (v10-01c Run1)"
     ]
    },
    {
     "cell_type": "code",
     "collapsed": false,
     "input": [
      "%cd {bmk_root}/1yr_benchmarks/v10-01/v10-01c/Run1"
     ],
     "language": "python",
     "metadata": {},
     "outputs": [
      {
       "output_type": "stream",
       "stream": "stdout",
       "text": [
        "/mnt/hgfs/Aldebaran/ScientificResearch/geoschem/1yr_benchmarks/v10-01/v10-01c/Run1\n"
       ]
      }
     ],
     "prompt_number": 3
    },
    {
     "cell_type": "heading",
     "level": 3,
     "metadata": {},
     "source": [
      "Simple (unconstrained) loading"
     ]
    },
    {
     "cell_type": "markdown",
     "metadata": {},
     "source": [
      "The line below loads the BPCH file corresponding to the first month of the simulation:"
     ]
    },
    {
     "cell_type": "code",
     "collapsed": false,
     "input": [
      "filename = 'bpch/ctm.bpch.v10-01c-geosfp-Run1.20120801'\n",
      "dataset = datasets.load(filename)"
     ],
     "language": "python",
     "metadata": {},
     "outputs": [],
     "prompt_number": 4
    },
    {
     "cell_type": "markdown",
     "metadata": {},
     "source": [
      "The line below print the list of the 20 lasts data fields of the list (name, units, dimensions and coordinates). Note that the field name may be reformatted during the loading so that it is consistent with the name set by the GAMAP's netCDF writing routines. Note also that the units may also be reformatted as required by the udunits2 library (used by Iris). "
     ]
    },
    {
     "cell_type": "code",
     "collapsed": false,
     "input": [
      "print dataset[-20:]"
     ],
     "language": "python",
     "metadata": {},
     "outputs": [
      {
       "output_type": "stream",
       "stream": "stdout",
       "text": [
        "0: WETDLS_S__IEPOX / (kg/s)            (longitude: 72; latitude: 46; model_level_number: 72)\n",
        "1: WETDLS_S__ISOPN / (kg/s)            (longitude: 72; latitude: 46; model_level_number: 72)\n",
        "2: WETDLS_S__MAP / (kg/s)              (longitude: 72; latitude: 46; model_level_number: 72)\n",
        "3: WETDLS_S__MMN / (kg/s)              (longitude: 72; latitude: 46; model_level_number: 72)\n",
        "4: WETDLS_S__MOBA / (kg/s)             (longitude: 72; latitude: 46; model_level_number: 72)\n",
        "5: WETDLS_S__MP / (kg/s)               (longitude: 72; latitude: 46; model_level_number: 72)\n",
        "6: WETDLS_S__MSA / (kg/s)              (longitude: 72; latitude: 46; model_level_number: 72)\n",
        "7: WETDLS_S__NH3 / (kg/s)              (longitude: 72; latitude: 46; model_level_number: 72)\n",
        "8: WETDLS_S__NH4 / (kg/s)              (longitude: 72; latitude: 46; model_level_number: 72)\n",
        "9: WETDLS_S__NIT / (kg/s)              (longitude: 72; latitude: 46; model_level_number: 72)\n",
        "10: WETDLS_S__NITs / (kg/s)             (longitude: 72; latitude: 46; model_level_number: 72)\n",
        "11: WETDLS_S__OCPI / (kg/s)             (longitude: 72; latitude: 46; model_level_number: 72)\n",
        "12: WETDLS_S__OCPO / (kg/s)             (longitude: 72; latitude: 46; model_level_number: 72)\n",
        "13: WETDLS_S__PROPNN / (kg/s)           (longitude: 72; latitude: 46; model_level_number: 72)\n",
        "14: WETDLS_S__RIP / (kg/s)              (longitude: 72; latitude: 46; model_level_number: 72)\n",
        "15: WETDLS_S__SALA / (kg/s)             (longitude: 72; latitude: 46; model_level_number: 72)\n",
        "16: WETDLS_S__SALC / (kg/s)             (longitude: 72; latitude: 46; model_level_number: 72)\n",
        "17: WETDLS_S__SO2 / (kg/s)              (longitude: 72; latitude: 46; model_level_number: 72)\n",
        "18: WETDLS_S__SO4 / (kg/s)              (longitude: 72; latitude: 46; model_level_number: 72)\n",
        "19: WETDLS_S__SO4s / (kg/s)             (longitude: 72; latitude: 46; model_level_number: 72)\n"
       ]
      }
     ],
     "prompt_number": 5
    },
    {
     "cell_type": "markdown",
     "metadata": {},
     "source": [
      "The same function can be used for loading the content of the netCDF files. The netCDF files available in this simulation were created by the 'BPCH2COARDS' GAMAP routine. As there are differences between the COARDS Conventions and the CF Conventions, we have to use a callback function 'gamap_bpch2coards' to properly load the content of the netCDF file into Iris cubes: "
     ]
    },
    {
     "cell_type": "code",
     "collapsed": false,
     "input": [
      "filename = 'netcdf/v10-01c-geosfp-Run1.20120801.nc'\n",
      "clb = datasets.load_callbacks['gamap_bpch2coards']\n",
      "dataset = datasets.load(filename, callback=clb)"
     ],
     "language": "python",
     "metadata": {},
     "outputs": [
      {
       "output_type": "stream",
       "stream": "stderr",
       "text": [
        "/home/benbovy/PythonEnvs/pygchem_develop_py27/lib/python2.7/site-packages/iris/fileformats/_pyke_rules/compiled_krb/fc_rules_cf_fc.py:1358: UserWarning: Failed to create 'lon' dimension coordinate: The points array must be strictly monotonic.\n",
        "Gracefully creating 'lon' auxiliary coordinate instead.\n",
        "  error=e_msg))\n"
       ]
      }
     ],
     "prompt_number": 6
    },
    {
     "cell_type": "code",
     "collapsed": false,
     "input": [
      "print dataset[-20:]"
     ],
     "language": "python",
     "metadata": {},
     "outputs": [
      {
       "output_type": "stream",
       "stream": "stdout",
       "text": [
        "0: OD_MAP_S__SBC / (cm2/cm3)           (-- : 59; latitude: 46; longitude: 72)\n",
        "1: OD_MAP_S__SD / (cm2/cm3)            (-- : 59; latitude: 46; longitude: 72)\n",
        "2: OD_MAP_S__SOC / (cm2/cm3)           (-- : 59; latitude: 46; longitude: 72)\n",
        "3: OD_MAP_S__SSO4 / (cm2/cm3)          (-- : 59; latitude: 46; longitude: 72)\n",
        "4: OD_MAP_S__SSSa / (cm2/cm3)          (-- : 59; latitude: 46; longitude: 72)\n",
        "5: OD_MAP_S__SSSc / (cm2/cm3)          (-- : 59; latitude: 46; longitude: 72)\n",
        "6: PEDGE_S__PSURF / (mb)               (Eta Edges: 73; latitude: 46; longitude: 72)\n",
        "7: PL_BC_S__BLKC / (kg)                (atmosphere_hybrid_sigma_pressure_coordinate: 72; latitude: 46; longitude: 72)\n",
        "8: PL_OC_S__ORGC / (kg)                (atmosphere_hybrid_sigma_pressure_coordinate: 72; latitude: 46; longitude: 72)\n",
        "9: SALTSRCE__SALA / (kg)               (latitude: 46; longitude: 72)\n",
        "10: SALTSRCE__SALC / (kg)               (latitude: 46; longitude: 72)\n",
        "11: SO2_AC_S__SO2 / (kg S)              (atmosphere_hybrid_sigma_pressure_coordinate: 72; latitude: 46; longitude: 72)\n",
        "12: SO2_AN_S__SO2 / (kg S)              (-- : 2; latitude: 46; longitude: 72)\n",
        "13: SO2_BIOB__SO2 / (kg S)              (latitude: 46; longitude: 72)\n",
        "14: SO2_BIOF__SO2 / (kg S)              (latitude: 46; longitude: 72)\n",
        "15: SO2_EV_S__SO2 / (kg S)              (atmosphere_hybrid_sigma_pressure_coordinate: 72; latitude: 46; longitude: 72)\n",
        "16: SO2_NV_S__SO2 / (kg S)              (atmosphere_hybrid_sigma_pressure_coordinate: 72; latitude: 46; longitude: 72)\n",
        "17: SO2_SHIP__SO2 / (kg S)              (latitude: 46; longitude: 72)\n",
        "18: SO4_AN_S__SO4 / (kg S)              (-- : 2; latitude: 46; longitude: 72)\n",
        "19: SO4_BIOF__SO4 / (kg S)              (latitude: 46; longitude: 72)\n"
       ]
      }
     ],
     "prompt_number": 7
    },
    {
     "cell_type": "markdown",
     "metadata": {},
     "source": [
      "PyGChem also provides a callback for loading netCDF files created by the GAMAP routine 'BPCH2NC':"
     ]
    },
    {
     "cell_type": "code",
     "collapsed": false,
     "input": [
      "% cd {bmk_root}/1yr_benchmarks/v9-02/v9-02r/geos5/Run0"
     ],
     "language": "python",
     "metadata": {},
     "outputs": [
      {
       "output_type": "stream",
       "stream": "stdout",
       "text": [
        "/mnt/hgfs/Aldebaran/ScientificResearch/geoschem/1yr_benchmarks/v9-02/v9-02r/geos5/Run0\n"
       ]
      }
     ],
     "prompt_number": 8
    },
    {
     "cell_type": "code",
     "collapsed": false,
     "input": [
      "filename = 'netcdf/v9-02r-geos5-Run0.20050101.nc'\n",
      "clb = datasets.load_callbacks['gamap_bpch2nc']\n",
      "dataset = datasets.load(filename, callback=clb)"
     ],
     "language": "python",
     "metadata": {},
     "outputs": [],
     "prompt_number": 9
    },
    {
     "cell_type": "code",
     "collapsed": false,
     "input": [
      "print dataset[-20:]"
     ],
     "language": "python",
     "metadata": {},
     "outputs": [
      {
       "output_type": "stream",
       "stream": "stdout",
       "text": [
        "0: OD-MAP-S__OPSSc / (1)               (-- : 38; latitude: 46; longitude: 72)\n",
        "1: OD-MAP-S__OPTD / (1)                (-- : 38; latitude: 46; longitude: 72)\n",
        "2: OD-MAP-S__SBC / (cm2/cm3)           (-- : 38; latitude: 46; longitude: 72)\n",
        "3: OD-MAP-S__SD / (cm2/cm3)            (-- : 38; latitude: 46; longitude: 72)\n",
        "4: OD-MAP-S__SOC / (cm2/cm3)           (-- : 38; latitude: 46; longitude: 72)\n",
        "5: OD-MAP-S__SSO4 / (cm2/cm3)          (-- : 38; latitude: 46; longitude: 72)\n",
        "6: OD-MAP-S__SSSa / (cm2/cm3)          (-- : 38; latitude: 46; longitude: 72)\n",
        "7: OD-MAP-S__SSSc / (cm2/cm3)          (-- : 38; latitude: 46; longitude: 72)\n",
        "8: PEDGE-S__PSURF / (mb)               (-- : 48; latitude: 46; longitude: 72)\n",
        "9: SALTSRCE__SALA / (kg)               (latitude: 46; longitude: 72)\n",
        "10: SALTSRCE__SALC / (kg)               (latitude: 46; longitude: 72)\n",
        "11: SO2-AC-S__SO2 / (kg S)              (model_level_number: 47; latitude: 46; longitude: 72)\n",
        "12: SO2-AN-S__SO2 / (kg S)              (-- : 2; latitude: 46; longitude: 72)\n",
        "13: SO2-BIOB__SO2 / (kg S)              (latitude: 46; longitude: 72)\n",
        "14: SO2-BIOF__SO2 / (kg S)              (latitude: 46; longitude: 72)\n",
        "15: SO2-EV-S__SO2 / (kg S)              (model_level_number: 47; latitude: 46; longitude: 72)\n",
        "16: SO2-NV-S__SO2 / (kg S)              (model_level_number: 47; latitude: 46; longitude: 72)\n",
        "17: SO2-SHIP__SO2 / (kg S)              (latitude: 46; longitude: 72)\n",
        "18: SO4-AN-S__SO4 / (kg S)              (-- : 2; latitude: 46; longitude: 72)\n",
        "19: SO4-BIOF__SO4 / (kg S)              (latitude: 46; longitude: 72)\n"
       ]
      }
     ],
     "prompt_number": 10
    },
    {
     "cell_type": "code",
     "collapsed": false,
     "input": [
      "%cd {bmk_root}/1yr_benchmarks/v10-01/v10-01c/Run1"
     ],
     "language": "python",
     "metadata": {},
     "outputs": [
      {
       "output_type": "stream",
       "stream": "stdout",
       "text": [
        "/mnt/hgfs/Aldebaran/ScientificResearch/geoschem/1yr_benchmarks/v10-01/v10-01c/Run1\n"
       ]
      }
     ],
     "prompt_number": 11
    },
    {
     "cell_type": "heading",
     "level": 3,
     "metadata": {},
     "source": [
      "Constrained loading"
     ]
    },
    {
     "cell_type": "markdown",
     "metadata": {},
     "source": [
      "For large datasets, it is possible to constrain the load to match specific metadata or to load only a subset of the data. It is recommended as the loading is faster with given constraints."
     ]
    },
    {
     "cell_type": "markdown",
     "metadata": {},
     "source": [
      "The following example loads only the \"IJ_AVG_S__O3\" variable: "
     ]
    },
    {
     "cell_type": "code",
     "collapsed": false,
     "input": [
      "filename = 'netcdf/v10-01c-geosfp-Run1.20120801.nc'\n",
      "clb = datasets.load_callbacks['gamap_bpch2coards']\n",
      "dataset = datasets.load(filename, \"IJ_AVG_S__O3\",\n",
      "                        callback=clb)"
     ],
     "language": "python",
     "metadata": {},
     "outputs": [],
     "prompt_number": 12
    },
    {
     "cell_type": "code",
     "collapsed": false,
     "input": [
      "print dataset"
     ],
     "language": "python",
     "metadata": {},
     "outputs": [
      {
       "output_type": "stream",
       "stream": "stdout",
       "text": [
        "0: IJ_AVG_S__O3 / (ppbv)               (atmosphere_hybrid_sigma_pressure_coordinate: 72; latitude: 46; longitude: 72)\n"
       ]
      }
     ],
     "prompt_number": 13
    },
    {
     "cell_type": "markdown",
     "metadata": {},
     "source": [
      "We can specify multiple variables:"
     ]
    },
    {
     "cell_type": "code",
     "collapsed": false,
     "input": [
      "dataset = datasets.load(filename, [\"IJ_AVG_S__O3\", \"IJ_AVG_S__NO\"],\n",
      "                        callback=clb)"
     ],
     "language": "python",
     "metadata": {},
     "outputs": [],
     "prompt_number": 14
    },
    {
     "cell_type": "code",
     "collapsed": false,
     "input": [
      "print dataset"
     ],
     "language": "python",
     "metadata": {},
     "outputs": [
      {
       "output_type": "stream",
       "stream": "stdout",
       "text": [
        "0: IJ_AVG_S__O3 / (ppbv)               (atmosphere_hybrid_sigma_pressure_coordinate: 72; latitude: 46; longitude: 72)\n",
        "1: IJ_AVG_S__NO / (ppbv)               (atmosphere_hybrid_sigma_pressure_coordinate: 72; latitude: 46; longitude: 72)\n"
       ]
      }
     ],
     "prompt_number": 15
    },
    {
     "cell_type": "markdown",
     "metadata": {},
     "source": [
      "It is also possible to define more advanced constraints. For example, to load all \"IJ-AVG-$\" diagnostics:"
     ]
    },
    {
     "cell_type": "code",
     "collapsed": false,
     "input": [
      "import iris\n",
      "\n",
      "check_ij_avg = lambda cube: cube.name().startswith(\"IJ_AVG_S\")\n",
      "ij_avg = iris.Constraint(cube_func=check_ij_avg)\n",
      "\n",
      "dataset = datasets.load(filename, ij_avg,\n",
      "                        callback=clb)"
     ],
     "language": "python",
     "metadata": {},
     "outputs": [],
     "prompt_number": 16
    },
    {
     "cell_type": "code",
     "collapsed": false,
     "input": [
      "print dataset"
     ],
     "language": "python",
     "metadata": {},
     "outputs": [
      {
       "output_type": "stream",
       "stream": "stdout",
       "text": [
        "0: IJ_AVG_S__ACET / (ppb)              (atmosphere_hybrid_sigma_pressure_coordinate: 72; latitude: 46; longitude: 72)\n",
        "1: IJ_AVG_S__ALD2 / (ppb)              (atmosphere_hybrid_sigma_pressure_coordinate: 72; latitude: 46; longitude: 72)\n",
        "2: IJ_AVG_S__ALK4 / (ppb)              (atmosphere_hybrid_sigma_pressure_coordinate: 72; latitude: 46; longitude: 72)\n",
        "3: IJ_AVG_S__BCPI / (ppbv)             (atmosphere_hybrid_sigma_pressure_coordinate: 72; latitude: 46; longitude: 72)\n",
        "4: IJ_AVG_S__BCPO / (ppbv)             (atmosphere_hybrid_sigma_pressure_coordinate: 72; latitude: 46; longitude: 72)\n",
        "5: IJ_AVG_S__Br / (ppbv)               (atmosphere_hybrid_sigma_pressure_coordinate: 72; latitude: 46; longitude: 72)\n",
        "6: IJ_AVG_S__Br2 / (ppbv)              (atmosphere_hybrid_sigma_pressure_coordinate: 72; latitude: 46; longitude: 72)\n",
        "7: IJ_AVG_S__BrCl / (ppbv)             (atmosphere_hybrid_sigma_pressure_coordinate: 72; latitude: 46; longitude: 72)\n",
        "8: IJ_AVG_S__BrNO2 / (ppbv)            (atmosphere_hybrid_sigma_pressure_coordinate: 72; latitude: 46; longitude: 72)\n",
        "9: IJ_AVG_S__BrNO3 / (ppbv)            (atmosphere_hybrid_sigma_pressure_coordinate: 72; latitude: 46; longitude: 72)\n",
        "10: IJ_AVG_S__BrO / (ppbv)              (atmosphere_hybrid_sigma_pressure_coordinate: 72; latitude: 46; longitude: 72)\n",
        "11: IJ_AVG_S__C2H6 / (ppb)              (atmosphere_hybrid_sigma_pressure_coordinate: 72; latitude: 46; longitude: 72)\n",
        "12: IJ_AVG_S__C3H8 / (ppb)              (atmosphere_hybrid_sigma_pressure_coordinate: 72; latitude: 46; longitude: 72)\n",
        "13: IJ_AVG_S__CCl4 / (ppbv)             (atmosphere_hybrid_sigma_pressure_coordinate: 72; latitude: 46; longitude: 72)\n",
        "14: IJ_AVG_S__CFC11 / (ppbv)            (atmosphere_hybrid_sigma_pressure_coordinate: 72; latitude: 46; longitude: 72)\n",
        "15: IJ_AVG_S__CFC12 / (ppbv)            (atmosphere_hybrid_sigma_pressure_coordinate: 72; latitude: 46; longitude: 72)\n",
        "16: IJ_AVG_S__CFCX / (ppbv)             (atmosphere_hybrid_sigma_pressure_coordinate: 72; latitude: 46; longitude: 72)\n",
        "17: IJ_AVG_S__CH2Br2 / (ppbv)           (atmosphere_hybrid_sigma_pressure_coordinate: 72; latitude: 46; longitude: 72)\n",
        "18: IJ_AVG_S__CH2O / (ppbv)             (atmosphere_hybrid_sigma_pressure_coordinate: 72; latitude: 46; longitude: 72)\n",
        "19: IJ_AVG_S__CH3Br / (ppbv)            (atmosphere_hybrid_sigma_pressure_coordinate: 72; latitude: 46; longitude: 72)\n",
        "20: IJ_AVG_S__CH3CCl3 / (ppbv)          (atmosphere_hybrid_sigma_pressure_coordinate: 72; latitude: 46; longitude: 72)\n",
        "21: IJ_AVG_S__CH3Cl / (ppbv)            (atmosphere_hybrid_sigma_pressure_coordinate: 72; latitude: 46; longitude: 72)\n",
        "22: IJ_AVG_S__CH4 / (ppbv)              (atmosphere_hybrid_sigma_pressure_coordinate: 72; latitude: 46; longitude: 72)\n",
        "23: IJ_AVG_S__CHBr3 / (ppbv)            (atmosphere_hybrid_sigma_pressure_coordinate: 72; latitude: 46; longitude: 72)\n",
        "24: IJ_AVG_S__CO / (ppbv)               (atmosphere_hybrid_sigma_pressure_coordinate: 72; latitude: 46; longitude: 72)\n",
        "25: IJ_AVG_S__Cl / (ppbv)               (atmosphere_hybrid_sigma_pressure_coordinate: 72; latitude: 46; longitude: 72)\n",
        "26: IJ_AVG_S__Cl2 / (ppbv)              (atmosphere_hybrid_sigma_pressure_coordinate: 72; latitude: 46; longitude: 72)\n",
        "27: IJ_AVG_S__Cl2O2 / (ppbv)            (atmosphere_hybrid_sigma_pressure_coordinate: 72; latitude: 46; longitude: 72)\n",
        "28: IJ_AVG_S__ClNO2 / (ppbv)            (atmosphere_hybrid_sigma_pressure_coordinate: 72; latitude: 46; longitude: 72)\n",
        "29: IJ_AVG_S__ClNO3 / (ppbv)            (atmosphere_hybrid_sigma_pressure_coordinate: 72; latitude: 46; longitude: 72)\n",
        "30: IJ_AVG_S__ClO / (ppbv)              (atmosphere_hybrid_sigma_pressure_coordinate: 72; latitude: 46; longitude: 72)\n",
        "31: IJ_AVG_S__ClOO / (ppbv)             (atmosphere_hybrid_sigma_pressure_coordinate: 72; latitude: 46; longitude: 72)\n",
        "32: IJ_AVG_S__DMS / (ppbv)              (atmosphere_hybrid_sigma_pressure_coordinate: 72; latitude: 46; longitude: 72)\n",
        "33: IJ_AVG_S__DST1 / (ppbv)             (atmosphere_hybrid_sigma_pressure_coordinate: 72; latitude: 46; longitude: 72)\n",
        "34: IJ_AVG_S__DST2 / (ppbv)             (atmosphere_hybrid_sigma_pressure_coordinate: 72; latitude: 46; longitude: 72)\n",
        "35: IJ_AVG_S__DST3 / (ppbv)             (atmosphere_hybrid_sigma_pressure_coordinate: 72; latitude: 46; longitude: 72)\n",
        "36: IJ_AVG_S__DST4 / (ppbv)             (atmosphere_hybrid_sigma_pressure_coordinate: 72; latitude: 46; longitude: 72)\n",
        "37: IJ_AVG_S__GLYC / (ppbv)             (atmosphere_hybrid_sigma_pressure_coordinate: 72; latitude: 46; longitude: 72)\n",
        "38: IJ_AVG_S__H1211 / (ppbv)            (atmosphere_hybrid_sigma_pressure_coordinate: 72; latitude: 46; longitude: 72)\n",
        "39: IJ_AVG_S__H1301 / (ppbv)            (atmosphere_hybrid_sigma_pressure_coordinate: 72; latitude: 46; longitude: 72)\n",
        "40: IJ_AVG_S__H2402 / (ppbv)            (atmosphere_hybrid_sigma_pressure_coordinate: 72; latitude: 46; longitude: 72)\n",
        "41: IJ_AVG_S__H2O / (ppbv)              (atmosphere_hybrid_sigma_pressure_coordinate: 72; latitude: 46; longitude: 72)\n",
        "42: IJ_AVG_S__H2O2 / (ppbv)             (atmosphere_hybrid_sigma_pressure_coordinate: 72; latitude: 46; longitude: 72)\n",
        "43: IJ_AVG_S__HAC / (ppbv)              (atmosphere_hybrid_sigma_pressure_coordinate: 72; latitude: 46; longitude: 72)\n",
        "44: IJ_AVG_S__HBr / (ppbv)              (atmosphere_hybrid_sigma_pressure_coordinate: 72; latitude: 46; longitude: 72)\n",
        "45: IJ_AVG_S__HCFC22 / (ppbv)           (atmosphere_hybrid_sigma_pressure_coordinate: 72; latitude: 46; longitude: 72)\n",
        "46: IJ_AVG_S__HCFCX / (ppbv)            (atmosphere_hybrid_sigma_pressure_coordinate: 72; latitude: 46; longitude: 72)\n",
        "47: IJ_AVG_S__HCl / (ppbv)              (atmosphere_hybrid_sigma_pressure_coordinate: 72; latitude: 46; longitude: 72)\n",
        "48: IJ_AVG_S__HNO2 / (ppbv)             (atmosphere_hybrid_sigma_pressure_coordinate: 72; latitude: 46; longitude: 72)\n",
        "49: IJ_AVG_S__HNO3 / (ppbv)             (atmosphere_hybrid_sigma_pressure_coordinate: 72; latitude: 46; longitude: 72)\n",
        "50: IJ_AVG_S__HNO4 / (ppbv)             (atmosphere_hybrid_sigma_pressure_coordinate: 72; latitude: 46; longitude: 72)\n",
        "51: IJ_AVG_S__HOBr / (ppbv)             (atmosphere_hybrid_sigma_pressure_coordinate: 72; latitude: 46; longitude: 72)\n",
        "52: IJ_AVG_S__HOCl / (ppbv)             (atmosphere_hybrid_sigma_pressure_coordinate: 72; latitude: 46; longitude: 72)\n",
        "53: IJ_AVG_S__IEPOX / (ppbv)            (atmosphere_hybrid_sigma_pressure_coordinate: 72; latitude: 46; longitude: 72)\n",
        "54: IJ_AVG_S__ISOP / (ppb)              (atmosphere_hybrid_sigma_pressure_coordinate: 72; latitude: 46; longitude: 72)\n",
        "55: IJ_AVG_S__ISOPN / (ppbv)            (atmosphere_hybrid_sigma_pressure_coordinate: 72; latitude: 46; longitude: 72)\n",
        "56: IJ_AVG_S__MACR / (ppbv)             (atmosphere_hybrid_sigma_pressure_coordinate: 72; latitude: 46; longitude: 72)\n",
        "57: IJ_AVG_S__MAP / (ppbv)              (atmosphere_hybrid_sigma_pressure_coordinate: 72; latitude: 46; longitude: 72)\n",
        "58: IJ_AVG_S__MEK / (ppb)               (atmosphere_hybrid_sigma_pressure_coordinate: 72; latitude: 46; longitude: 72)\n",
        "59: IJ_AVG_S__MMN / (ppbv)              (atmosphere_hybrid_sigma_pressure_coordinate: 72; latitude: 46; longitude: 72)\n",
        "60: IJ_AVG_S__MOBA / (ppbv)             (atmosphere_hybrid_sigma_pressure_coordinate: 72; latitude: 46; longitude: 72)\n",
        "61: IJ_AVG_S__MP / (ppbv)               (atmosphere_hybrid_sigma_pressure_coordinate: 72; latitude: 46; longitude: 72)\n",
        "62: IJ_AVG_S__MPN / (ppbv)              (atmosphere_hybrid_sigma_pressure_coordinate: 72; latitude: 46; longitude: 72)\n",
        "63: IJ_AVG_S__MSA / (ppbv)              (atmosphere_hybrid_sigma_pressure_coordinate: 72; latitude: 46; longitude: 72)\n",
        "64: IJ_AVG_S__MVK / (ppbv)              (atmosphere_hybrid_sigma_pressure_coordinate: 72; latitude: 46; longitude: 72)\n",
        "65: IJ_AVG_S__N2O / (ppbv)              (atmosphere_hybrid_sigma_pressure_coordinate: 72; latitude: 46; longitude: 72)\n",
        "66: IJ_AVG_S__N2O5 / (ppbv)             (atmosphere_hybrid_sigma_pressure_coordinate: 72; latitude: 46; longitude: 72)\n",
        "67: IJ_AVG_S__NH3 / (ppbv)              (atmosphere_hybrid_sigma_pressure_coordinate: 72; latitude: 46; longitude: 72)\n",
        "68: IJ_AVG_S__NH4 / (ppbv)              (atmosphere_hybrid_sigma_pressure_coordinate: 72; latitude: 46; longitude: 72)\n",
        "69: IJ_AVG_S__NIT / (ppbv)              (atmosphere_hybrid_sigma_pressure_coordinate: 72; latitude: 46; longitude: 72)\n",
        "70: IJ_AVG_S__NITs / (ppbv)             (atmosphere_hybrid_sigma_pressure_coordinate: 72; latitude: 46; longitude: 72)\n",
        "71: IJ_AVG_S__NO / (ppbv)               (atmosphere_hybrid_sigma_pressure_coordinate: 72; latitude: 46; longitude: 72)\n",
        "72: IJ_AVG_S__NO2 / (ppbv)              (atmosphere_hybrid_sigma_pressure_coordinate: 72; latitude: 46; longitude: 72)\n",
        "73: IJ_AVG_S__NO3 / (ppbv)              (atmosphere_hybrid_sigma_pressure_coordinate: 72; latitude: 46; longitude: 72)\n",
        "74: IJ_AVG_S__O3 / (ppbv)               (atmosphere_hybrid_sigma_pressure_coordinate: 72; latitude: 46; longitude: 72)\n",
        "75: IJ_AVG_S__OCPI / (ppbv)             (atmosphere_hybrid_sigma_pressure_coordinate: 72; latitude: 46; longitude: 72)\n",
        "76: IJ_AVG_S__OCPO / (ppbv)             (atmosphere_hybrid_sigma_pressure_coordinate: 72; latitude: 46; longitude: 72)\n",
        "77: IJ_AVG_S__OCS / (ppbv)              (atmosphere_hybrid_sigma_pressure_coordinate: 72; latitude: 46; longitude: 72)\n",
        "78: IJ_AVG_S__OClO / (ppbv)             (atmosphere_hybrid_sigma_pressure_coordinate: 72; latitude: 46; longitude: 72)\n",
        "79: IJ_AVG_S__PAN / (ppbv)              (atmosphere_hybrid_sigma_pressure_coordinate: 72; latitude: 46; longitude: 72)\n",
        "80: IJ_AVG_S__PMN / (ppbv)              (atmosphere_hybrid_sigma_pressure_coordinate: 72; latitude: 46; longitude: 72)\n",
        "81: IJ_AVG_S__PPN / (ppbv)              (atmosphere_hybrid_sigma_pressure_coordinate: 72; latitude: 46; longitude: 72)\n",
        "82: IJ_AVG_S__PROPNN / (ppbv)           (atmosphere_hybrid_sigma_pressure_coordinate: 72; latitude: 46; longitude: 72)\n",
        "83: IJ_AVG_S__PRPE / (ppb)              (atmosphere_hybrid_sigma_pressure_coordinate: 72; latitude: 46; longitude: 72)\n",
        "84: IJ_AVG_S__R4N2 / (ppbv)             (atmosphere_hybrid_sigma_pressure_coordinate: 72; latitude: 46; longitude: 72)\n",
        "85: IJ_AVG_S__RCHO / (ppbv)             (atmosphere_hybrid_sigma_pressure_coordinate: 72; latitude: 46; longitude: 72)\n",
        "86: IJ_AVG_S__RIP / (ppbv)              (atmosphere_hybrid_sigma_pressure_coordinate: 72; latitude: 46; longitude: 72)\n",
        "87: IJ_AVG_S__SALA / (ppbv)             (atmosphere_hybrid_sigma_pressure_coordinate: 72; latitude: 46; longitude: 72)\n",
        "88: IJ_AVG_S__SALC / (ppbv)             (atmosphere_hybrid_sigma_pressure_coordinate: 72; latitude: 46; longitude: 72)\n",
        "89: IJ_AVG_S__SO2 / (ppbv)              (atmosphere_hybrid_sigma_pressure_coordinate: 72; latitude: 46; longitude: 72)\n",
        "90: IJ_AVG_S__SO4 / (ppbv)              (atmosphere_hybrid_sigma_pressure_coordinate: 72; latitude: 46; longitude: 72)\n",
        "91: IJ_AVG_S__SO4s / (ppbv)             (atmosphere_hybrid_sigma_pressure_coordinate: 72; latitude: 46; longitude: 72)\n"
       ]
      }
     ],
     "prompt_number": 17
    },
    {
     "cell_type": "markdown",
     "metadata": {},
     "source": [
      "A more advanced example, combining constraints and extracting data subsets:"
     ]
    },
    {
     "cell_type": "code",
     "collapsed": false,
     "input": [
      "def lon_subset(cell):\n",
      "   \"\"\"\n",
      "   return True or False as to whether the cell\n",
      "   center in question should be kept\n",
      "   \"\"\"\n",
      "   return cell > 0. and cell < 20.\n",
      "\n",
      "lon_cst = iris.Constraint(longitude=lon_subset)\n",
      "\n",
      "dataset = datasets.load(filename,\n",
      "                        \"IJ_AVG_S__O3\" & lon_cst,\n",
      "                        callback=clb)"
     ],
     "language": "python",
     "metadata": {},
     "outputs": [],
     "prompt_number": 18
    },
    {
     "cell_type": "code",
     "collapsed": false,
     "input": [
      "print dataset\n",
      "# note the reduced grid-size for the longitude"
     ],
     "language": "python",
     "metadata": {},
     "outputs": [
      {
       "output_type": "stream",
       "stream": "stdout",
       "text": [
        "0: IJ_AVG_S__O3 / (ppbv)               (atmosphere_hybrid_sigma_pressure_coordinate: 72; latitude: 46; longitude: 3)\n"
       ]
      }
     ],
     "prompt_number": 19
    },
    {
     "cell_type": "heading",
     "level": 3,
     "metadata": {},
     "source": [
      "Loading multiple files"
     ]
    },
    {
     "cell_type": "markdown",
     "metadata": {},
     "source": [
      "It is possible to load multiple files at once. The `pygchem.datafields.load` function will try to merge the fields when it is possible, i.e., when the multiple fields describing the same phenomenom overlap in space and/or time, so that it reduces at the minimum the number of loaded fields."
     ]
    },
    {
     "cell_type": "markdown",
     "metadata": {},
     "source": [
      "The following example load the \"IJ_AVG_S__O3\" diagnostic for the entire 1-year simulation:"
     ]
    },
    {
     "cell_type": "code",
     "collapsed": false,
     "input": [
      "# note the wildcard character in the filename\n",
      "# (UNIX expressions are supported)\n",
      "filename = 'bpch/ctm.bpch.v10-01c-geosfp-Run1.*'\n",
      "diagnostics = [\"BXHGHT_S__BXHEIGHT\",\n",
      "               \"BXHGHT_S__N(AIR)\",\n",
      "               \"IJ_AVG_S__NO2\"]\n",
      "dataset = datasets.load(filename, diagnostics)"
     ],
     "language": "python",
     "metadata": {},
     "outputs": [],
     "prompt_number": 20
    },
    {
     "cell_type": "code",
     "collapsed": false,
     "input": [
      "print dataset\n",
      "# note the additional time dimension"
     ],
     "language": "python",
     "metadata": {},
     "outputs": [
      {
       "output_type": "stream",
       "stream": "stdout",
       "text": [
        "0: BXHGHT_S__BXHEIGHT / (m)            (time: 12; longitude: 72; latitude: 46; model_level_number: 72)\n",
        "1: BXHGHT_S__N(AIR) / (count/m3)       (time: 12; longitude: 72; latitude: 46; model_level_number: 72)\n",
        "2: IJ_AVG_S__NO2 / (ppbv)              (time: 12; longitude: 72; latitude: 46; model_level_number: 72)\n"
       ]
      }
     ],
     "prompt_number": 21
    },
    {
     "cell_type": "markdown",
     "metadata": {},
     "source": [
      "Merging fields may take a long time. If speed matters, it is still possible to load the fields without any merging: "
     ]
    },
    {
     "cell_type": "code",
     "collapsed": false,
     "input": [
      "dataset_nomerge = datasets.load_raw(filename, diagnostics)\n",
      "print dataset_nomerge"
     ],
     "language": "python",
     "metadata": {},
     "outputs": [
      {
       "output_type": "stream",
       "stream": "stdout",
       "text": [
        "0: BXHGHT_S__BXHEIGHT / (m)            (longitude: 72; latitude: 46; model_level_number: 72)\n",
        "1: BXHGHT_S__BXHEIGHT / (m)            (longitude: 72; latitude: 46; model_level_number: 72)\n",
        "2: BXHGHT_S__BXHEIGHT / (m)            (longitude: 72; latitude: 46; model_level_number: 72)\n",
        "3: BXHGHT_S__BXHEIGHT / (m)            (longitude: 72; latitude: 46; model_level_number: 72)\n",
        "4: BXHGHT_S__BXHEIGHT / (m)            (longitude: 72; latitude: 46; model_level_number: 72)\n",
        "5: BXHGHT_S__BXHEIGHT / (m)            (longitude: 72; latitude: 46; model_level_number: 72)\n",
        "6: BXHGHT_S__BXHEIGHT / (m)            (longitude: 72; latitude: 46; model_level_number: 72)\n",
        "7: BXHGHT_S__BXHEIGHT / (m)            (longitude: 72; latitude: 46; model_level_number: 72)\n",
        "8: BXHGHT_S__BXHEIGHT / (m)            (longitude: 72; latitude: 46; model_level_number: 72)\n",
        "9: BXHGHT_S__BXHEIGHT / (m)            (longitude: 72; latitude: 46; model_level_number: 72)\n",
        "10: BXHGHT_S__BXHEIGHT / (m)            (longitude: 72; latitude: 46; model_level_number: 72)\n",
        "11: BXHGHT_S__BXHEIGHT / (m)            (longitude: 72; latitude: 46; model_level_number: 72)\n",
        "12: BXHGHT_S__N(AIR) / (count/m3)       (longitude: 72; latitude: 46; model_level_number: 72)\n",
        "13: BXHGHT_S__N(AIR) / (count/m3)       (longitude: 72; latitude: 46; model_level_number: 72)\n",
        "14: BXHGHT_S__N(AIR) / (count/m3)       (longitude: 72; latitude: 46; model_level_number: 72)\n",
        "15: BXHGHT_S__N(AIR) / (count/m3)       (longitude: 72; latitude: 46; model_level_number: 72)\n",
        "16: BXHGHT_S__N(AIR) / (count/m3)       (longitude: 72; latitude: 46; model_level_number: 72)\n",
        "17: BXHGHT_S__N(AIR) / (count/m3)       (longitude: 72; latitude: 46; model_level_number: 72)\n",
        "18: BXHGHT_S__N(AIR) / (count/m3)       (longitude: 72; latitude: 46; model_level_number: 72)\n",
        "19: BXHGHT_S__N(AIR) / (count/m3)       (longitude: 72; latitude: 46; model_level_number: 72)\n",
        "20: BXHGHT_S__N(AIR) / (count/m3)       (longitude: 72; latitude: 46; model_level_number: 72)\n",
        "21: BXHGHT_S__N(AIR) / (count/m3)       (longitude: 72; latitude: 46; model_level_number: 72)\n",
        "22: BXHGHT_S__N(AIR) / (count/m3)       (longitude: 72; latitude: 46; model_level_number: 72)\n",
        "23: BXHGHT_S__N(AIR) / (count/m3)       (longitude: 72; latitude: 46; model_level_number: 72)\n",
        "24: IJ_AVG_S__NO2 / (ppbv)              (longitude: 72; latitude: 46; model_level_number: 72)\n",
        "25: IJ_AVG_S__NO2 / (ppbv)              (longitude: 72; latitude: 46; model_level_number: 72)\n",
        "26: IJ_AVG_S__NO2 / (ppbv)              (longitude: 72; latitude: 46; model_level_number: 72)\n",
        "27: IJ_AVG_S__NO2 / (ppbv)              (longitude: 72; latitude: 46; model_level_number: 72)\n",
        "28: IJ_AVG_S__NO2 / (ppbv)              (longitude: 72; latitude: 46; model_level_number: 72)\n",
        "29: IJ_AVG_S__NO2 / (ppbv)              (longitude: 72; latitude: 46; model_level_number: 72)\n",
        "30: IJ_AVG_S__NO2 / (ppbv)              (longitude: 72; latitude: 46; model_level_number: 72)\n",
        "31: IJ_AVG_S__NO2 / (ppbv)              (longitude: 72; latitude: 46; model_level_number: 72)\n",
        "32: IJ_AVG_S__NO2 / (ppbv)              (longitude: 72; latitude: 46; model_level_number: 72)\n",
        "33: IJ_AVG_S__NO2 / (ppbv)              (longitude: 72; latitude: 46; model_level_number: 72)\n",
        "34: IJ_AVG_S__NO2 / (ppbv)              (longitude: 72; latitude: 46; model_level_number: 72)\n",
        "35: IJ_AVG_S__NO2 / (ppbv)              (longitude: 72; latitude: 46; model_level_number: 72)\n"
       ]
      }
     ],
     "prompt_number": 22
    },
    {
     "cell_type": "heading",
     "level": 3,
     "metadata": {},
     "source": [
      "Apply contraints to the field list after loading"
     ]
    },
    {
     "cell_type": "markdown",
     "metadata": {},
     "source": [
      "We can extract data subsets and/or specific fields from a loaded list of fields:"
     ]
    },
    {
     "cell_type": "code",
     "collapsed": false,
     "input": [
      "dataset_lon_subset = dataset.extract(lon_cst)\n",
      "print dataset_lon_subset"
     ],
     "language": "python",
     "metadata": {},
     "outputs": [
      {
       "output_type": "stream",
       "stream": "stdout",
       "text": [
        "0: BXHGHT_S__BXHEIGHT / (m)            (time: 12; longitude: 3; latitude: 46; model_level_number: 72)\n",
        "1: BXHGHT_S__N(AIR) / (count/m3)       (time: 12; longitude: 3; latitude: 46; model_level_number: 72)\n",
        "2: IJ_AVG_S__NO2 / (ppbv)              (time: 12; longitude: 3; latitude: 46; model_level_number: 72)\n"
       ]
      }
     ],
     "prompt_number": 23
    },
    {
     "cell_type": "markdown",
     "metadata": {},
     "source": [
      "To select only one field (cube), the `extract_strict` method can be used: "
     ]
    },
    {
     "cell_type": "code",
     "collapsed": false,
     "input": [
      "no2_avg = dataset.extract_strict(\"IJ_AVG_S__NO2\")\n",
      "print no2_avg"
     ],
     "language": "python",
     "metadata": {},
     "outputs": [
      {
       "output_type": "stream",
       "stream": "stdout",
       "text": [
        "IJ_AVG_S__NO2 / (ppbv)              (time: 12; longitude: 72; latitude: 46; model_level_number: 72)\n",
        "     Dimension coordinates:\n",
        "          time                           x              -             -                       -\n",
        "          longitude                      -              x             -                       -\n",
        "          latitude                       -              -             x                       -\n",
        "          model_level_number             -              -             -                       x\n",
        "     Attributes:\n",
        "          ctm_units: ppbv\n",
        "          model: GEOSFP\n"
       ]
      }
     ],
     "prompt_number": 24
    },
    {
     "cell_type": "heading",
     "level": 2,
     "metadata": {},
     "source": [
      "Saving datasets"
     ]
    },
    {
     "cell_type": "markdown",
     "metadata": {},
     "source": [
      "Datasets can be written to a netCDF file (with the CF-conventions) using the function `save` of the `datafields` module (an alias to the `iris.save` function)."
     ]
    },
    {
     "cell_type": "code",
     "collapsed": false,
     "input": [
      "outfile = 'netcdf/test.nc'\n",
      "datasets.save(dataset, outfile)"
     ],
     "language": "python",
     "metadata": {},
     "outputs": [],
     "prompt_number": 25
    },
    {
     "cell_type": "markdown",
     "metadata": {},
     "source": [
      "A text representation of (the header information of) the written netCDF file using the `ncdump` utility (provided with the netCDF4 package):"
     ]
    },
    {
     "cell_type": "code",
     "collapsed": false,
     "input": [
      "!ncdump -h netcdf/test.nc"
     ],
     "language": "python",
     "metadata": {},
     "outputs": [
      {
       "output_type": "stream",
       "stream": "stdout",
       "text": [
        "netcdf test {\r\n",
        "dimensions:\r\n",
        "\ttime = UNLIMITED ; // (12 currently)\r\n",
        "\tlongitude = 72 ;\r\n",
        "\tlatitude = 46 ;\r\n",
        "\tmodel_level_number = 72 ;\r\n",
        "\tbnds = 2 ;\r\n",
        "variables:\r\n",
        "\tfloat BXHGHT_S__BXHEIGHT(time, longitude, latitude, model_level_number) ;\r\n",
        "\t\tBXHGHT_S__BXHEIGHT:standard_name = \"BXHGHT_S__BXHEIGHT\" ;\r\n",
        "\t\tBXHGHT_S__BXHEIGHT:long_name = \"Grid box height\" ;\r\n",
        "\t\tBXHGHT_S__BXHEIGHT:units = \"m\" ;\r\n",
        "\t\tBXHGHT_S__BXHEIGHT:ctm_units = \"m\" ;\r\n",
        "\t\tBXHGHT_S__BXHEIGHT:grid_mapping = \"latitude_longitude\" ;\r\n",
        "\tint latitude_longitude ;\r\n",
        "\t\tlatitude_longitude:grid_mapping_name = \"latitude_longitude\" ;\r\n",
        "\t\tlatitude_longitude:longitude_of_prime_meridian = 0. ;\r\n",
        "\t\tlatitude_longitude:earth_radius = 6367470. ;\r\n",
        "\tdouble time(time) ;\r\n",
        "\t\ttime:axis = \"T\" ;\r\n",
        "\t\ttime:bounds = \"time_bnds\" ;\r\n",
        "\t\ttime:units = \"hours since 1985-01-01 00:00:00\" ;\r\n",
        "\t\ttime:standard_name = \"time\" ;\r\n",
        "\t\ttime:calendar = \"standard\" ;\r\n",
        "\tdouble time_bnds(time, bnds) ;\r\n",
        "\tdouble longitude(longitude) ;\r\n",
        "\t\tlongitude:axis = \"X\" ;\r\n",
        "\t\tlongitude:bounds = \"longitude_bnds\" ;\r\n",
        "\t\tlongitude:units = \"degrees_east\" ;\r\n",
        "\t\tlongitude:standard_name = \"longitude\" ;\r\n",
        "\tdouble longitude_bnds(longitude, bnds) ;\r\n",
        "\tdouble latitude(latitude) ;\r\n",
        "\t\tlatitude:axis = \"Y\" ;\r\n",
        "\t\tlatitude:bounds = \"latitude_bnds\" ;\r\n",
        "\t\tlatitude:units = \"degrees_north\" ;\r\n",
        "\t\tlatitude:standard_name = \"latitude\" ;\r\n",
        "\tdouble latitude_bnds(latitude, bnds) ;\r\n",
        "\tint64 model_level_number(model_level_number) ;\r\n",
        "\t\tmodel_level_number:units = \"1\" ;\r\n",
        "\t\tmodel_level_number:standard_name = \"model_level_number\" ;\r\n",
        "\tfloat BXHGHT_S__N\\(AIR\\)(time, longitude, latitude, model_level_number) ;\r\n",
        "\t\tBXHGHT_S__N\\(AIR\\):standard_name = \"BXHGHT_S__N(AIR)\" ;\r\n",
        "\t\tBXHGHT_S__N\\(AIR\\):long_name = \"Number density of air\" ;\r\n",
        "\t\tBXHGHT_S__N\\(AIR\\):units = \"count/m3\" ;\r\n",
        "\t\tBXHGHT_S__N\\(AIR\\):ctm_units = \"molec/m3\" ;\r\n",
        "\t\tBXHGHT_S__N\\(AIR\\):grid_mapping = \"latitude_longitude\" ;\r\n",
        "\tfloat IJ_AVG_S__NO2(time, longitude, latitude, model_level_number) ;\r\n",
        "\t\tIJ_AVG_S__NO2:standard_name = \"IJ_AVG_S__NO2\" ;\r\n",
        "\t\tIJ_AVG_S__NO2:long_name = \"NO2 tracer\" ;\r\n",
        "\t\tIJ_AVG_S__NO2:units = \"ppbv\" ;\r\n",
        "\t\tIJ_AVG_S__NO2:ctm_units = \"ppbv\" ;\r\n",
        "\t\tIJ_AVG_S__NO2:grid_mapping = \"latitude_longitude\" ;\r\n",
        "\r\n",
        "// global attributes:\r\n",
        "\t\t:model = \"GEOSFP\" ;\r\n",
        "\t\t:Conventions = \"CF-1.5\" ;\r\n",
        "}\r\n"
       ]
      }
     ],
     "prompt_number": 26
    },
    {
     "cell_type": "markdown",
     "metadata": {},
     "source": [
      "Loading the written file using the `load` function:"
     ]
    },
    {
     "cell_type": "code",
     "collapsed": false,
     "input": [
      "print datasets.load('netcdf/test.nc')"
     ],
     "language": "python",
     "metadata": {},
     "outputs": [
      {
       "output_type": "stream",
       "stream": "stdout",
       "text": [
        "0: BXHGHT_S__BXHEIGHT / (m)            (time: 12; longitude: 72; latitude: 46; model_level_number: 72)\n",
        "1: BXHGHT_S__N(AIR) / (count/m3)       (time: 12; longitude: 72; latitude: 46; model_level_number: 72)\n",
        "2: IJ_AVG_S__NO2 / (ppbv)              (time: 12; longitude: 72; latitude: 46; model_level_number: 72)\n"
       ]
      }
     ],
     "prompt_number": 27
    },
    {
     "cell_type": "markdown",
     "metadata": {},
     "source": [
      "It is also possible to write the datasets to the BPCH format, using the low-level function `write_bpch` in the module `pygchem.io.bpch` (not yet documented)."
     ]
    },
    {
     "cell_type": "heading",
     "level": 2,
     "metadata": {},
     "source": [
      "Accessing data and metadata"
     ]
    },
    {
     "cell_type": "heading",
     "level": 3,
     "metadata": {},
     "source": [
      "String representation"
     ]
    },
    {
     "cell_type": "markdown",
     "metadata": {},
     "source": [
      "Print a string representation of the data field (cube): "
     ]
    },
    {
     "cell_type": "code",
     "collapsed": false,
     "input": [
      "print no2_avg"
     ],
     "language": "python",
     "metadata": {},
     "outputs": [
      {
       "output_type": "stream",
       "stream": "stdout",
       "text": [
        "IJ_AVG_S__NO2 / (ppbv)              (time: 12; longitude: 72; latitude: 46; model_level_number: 72)\n",
        "     Dimension coordinates:\n",
        "          time                           x              -             -                       -\n",
        "          longitude                      -              x             -                       -\n",
        "          latitude                       -              -             x                       -\n",
        "          model_level_number             -              -             -                       x\n",
        "     Attributes:\n",
        "          ctm_units: ppbv\n",
        "          model: GEOSFP\n"
       ]
      }
     ],
     "prompt_number": 28
    },
    {
     "cell_type": "heading",
     "level": 3,
     "metadata": {},
     "source": [
      "Field name(s)"
     ]
    },
    {
     "cell_type": "markdown",
     "metadata": {},
     "source": [
      "Get or set the name(s) of the field with the following function and/or attributes:"
     ]
    },
    {
     "cell_type": "code",
     "collapsed": false,
     "input": [
      "no2_avg.name()"
     ],
     "language": "python",
     "metadata": {},
     "outputs": [
      {
       "metadata": {},
       "output_type": "pyout",
       "prompt_number": 29,
       "text": [
        "'IJ_AVG_S__NO2'"
       ]
      }
     ],
     "prompt_number": 29
    },
    {
     "cell_type": "markdown",
     "metadata": {},
     "source": [
      "PyGChem considers that the GEOS-Chem variable name (category + tracer) is a standard name, although it is not CF-compliant (i.e., not listed in the standard name table of the udunits package)."
     ]
    },
    {
     "cell_type": "code",
     "collapsed": false,
     "input": [
      "no2_avg.standard_name"
     ],
     "language": "python",
     "metadata": {},
     "outputs": [
      {
       "metadata": {},
       "output_type": "pyout",
       "prompt_number": 30,
       "text": [
        "'IJ_AVG_S__NO2'"
       ]
      }
     ],
     "prompt_number": 30
    },
    {
     "cell_type": "markdown",
     "metadata": {},
     "source": [
      "`long_name` is the full name of the diagnostic"
     ]
    },
    {
     "cell_type": "code",
     "collapsed": false,
     "input": [
      "no2_avg.long_name"
     ],
     "language": "python",
     "metadata": {},
     "outputs": [
      {
       "metadata": {},
       "output_type": "pyout",
       "prompt_number": 31,
       "text": [
        "'NO2 tracer'"
       ]
      }
     ],
     "prompt_number": 31
    },
    {
     "cell_type": "markdown",
     "metadata": {},
     "source": [
      "`var_name` is the (netCDF) variable name"
     ]
    },
    {
     "cell_type": "code",
     "collapsed": false,
     "input": [
      "no2_avg.var_name"
     ],
     "language": "python",
     "metadata": {},
     "outputs": [
      {
       "metadata": {},
       "output_type": "pyout",
       "prompt_number": 32,
       "text": [
        "'IJ_AVG_S__NO2'"
       ]
      }
     ],
     "prompt_number": 32
    },
    {
     "cell_type": "heading",
     "level": 3,
     "metadata": {},
     "source": [
      "Attributes"
     ]
    },
    {
     "cell_type": "markdown",
     "metadata": {},
     "source": [
      "Any attribute of the data field is stored in the following dictionary"
     ]
    },
    {
     "cell_type": "code",
     "collapsed": false,
     "input": [
      "no2_avg.attributes"
     ],
     "language": "python",
     "metadata": {},
     "outputs": [
      {
       "metadata": {},
       "output_type": "pyout",
       "prompt_number": 33,
       "text": [
        "{'ctm_units': 'ppbv', 'model': 'GEOSFP'}"
       ]
      }
     ],
     "prompt_number": 33
    },
    {
     "cell_type": "heading",
     "level": 3,
     "metadata": {},
     "source": [
      "Field units"
     ]
    },
    {
     "cell_type": "markdown",
     "metadata": {},
     "source": [
      "Get the field units:"
     ]
    },
    {
     "cell_type": "code",
     "collapsed": false,
     "input": [
      "no2_avg.units"
     ],
     "language": "python",
     "metadata": {},
     "outputs": [
      {
       "metadata": {},
       "output_type": "pyout",
       "prompt_number": 34,
       "text": [
        "Unit('ppbv')"
       ]
      }
     ],
     "prompt_number": 34
    },
    {
     "cell_type": "markdown",
     "metadata": {},
     "source": [
      "It is easy to change the units of the field (data values are re-computed accordingly):"
     ]
    },
    {
     "cell_type": "code",
     "collapsed": false,
     "input": [
      "no2_avg.convert_units('ppmv')\n",
      "print no2_avg"
     ],
     "language": "python",
     "metadata": {},
     "outputs": [
      {
       "output_type": "stream",
       "stream": "stdout",
       "text": [
        "IJ_AVG_S__NO2 / (ppmv)              (time: 12; longitude: 72; latitude: 46; model_level_number: 72)\n",
        "     Dimension coordinates:\n",
        "          time                           x              -             -                       -\n",
        "          longitude                      -              x             -                       -\n",
        "          latitude                       -              -             x                       -\n",
        "          model_level_number             -              -             -                       x\n",
        "     Attributes:\n",
        "          ctm_units: ppbv\n",
        "          model: GEOSFP\n"
       ]
      }
     ],
     "prompt_number": 35
    },
    {
     "cell_type": "heading",
     "level": 3,
     "metadata": {},
     "source": [
      "Coordinates"
     ]
    },
    {
     "cell_type": "markdown",
     "metadata": {},
     "source": [
      "Retreiving a coordinate by name:"
     ]
    },
    {
     "cell_type": "code",
     "collapsed": false,
     "input": [
      "lat_coord =  no2_avg.coord('latitude')"
     ],
     "language": "python",
     "metadata": {},
     "outputs": [],
     "prompt_number": 36
    },
    {
     "cell_type": "markdown",
     "metadata": {},
     "source": [
      "Coordinate data and metadata:"
     ]
    },
    {
     "cell_type": "code",
     "collapsed": false,
     "input": [
      "lat_coord.points"
     ],
     "language": "python",
     "metadata": {},
     "outputs": [
      {
       "metadata": {},
       "output_type": "pyout",
       "prompt_number": 37,
       "text": [
        "array([-89., -86., -82., -78., -74., -70., -66., -62., -58., -54., -50.,\n",
        "       -46., -42., -38., -34., -30., -26., -22., -18., -14., -10.,  -6.,\n",
        "        -2.,   2.,   6.,  10.,  14.,  18.,  22.,  26.,  30.,  34.,  38.,\n",
        "        42.,  46.,  50.,  54.,  58.,  62.,  66.,  70.,  74.,  78.,  82.,\n",
        "        86.,  89.])"
       ]
      }
     ],
     "prompt_number": 37
    },
    {
     "cell_type": "code",
     "collapsed": false,
     "input": [
      "lat_coord.bounds"
     ],
     "language": "python",
     "metadata": {},
     "outputs": [
      {
       "metadata": {},
       "output_type": "pyout",
       "prompt_number": 38,
       "text": [
        "array([[-90., -88.],\n",
        "       [-88., -84.],\n",
        "       [-84., -80.],\n",
        "       [-80., -76.],\n",
        "       [-76., -72.],\n",
        "       [-72., -68.],\n",
        "       [-68., -64.],\n",
        "       [-64., -60.],\n",
        "       [-60., -56.],\n",
        "       [-56., -52.],\n",
        "       [-52., -48.],\n",
        "       [-48., -44.],\n",
        "       [-44., -40.],\n",
        "       [-40., -36.],\n",
        "       [-36., -32.],\n",
        "       [-32., -28.],\n",
        "       [-28., -24.],\n",
        "       [-24., -20.],\n",
        "       [-20., -16.],\n",
        "       [-16., -12.],\n",
        "       [-12.,  -8.],\n",
        "       [ -8.,  -4.],\n",
        "       [ -4.,   0.],\n",
        "       [  0.,   4.],\n",
        "       [  4.,   8.],\n",
        "       [  8.,  12.],\n",
        "       [ 12.,  16.],\n",
        "       [ 16.,  20.],\n",
        "       [ 20.,  24.],\n",
        "       [ 24.,  28.],\n",
        "       [ 28.,  32.],\n",
        "       [ 32.,  36.],\n",
        "       [ 36.,  40.],\n",
        "       [ 40.,  44.],\n",
        "       [ 44.,  48.],\n",
        "       [ 48.,  52.],\n",
        "       [ 52.,  56.],\n",
        "       [ 56.,  60.],\n",
        "       [ 60.,  64.],\n",
        "       [ 64.,  68.],\n",
        "       [ 68.,  72.],\n",
        "       [ 72.,  76.],\n",
        "       [ 76.,  80.],\n",
        "       [ 80.,  84.],\n",
        "       [ 84.,  88.],\n",
        "       [ 88.,  90.]])"
       ]
      }
     ],
     "prompt_number": 38
    },
    {
     "cell_type": "code",
     "collapsed": false,
     "input": [
      "lat_coord.units"
     ],
     "language": "python",
     "metadata": {},
     "outputs": [
      {
       "metadata": {},
       "output_type": "pyout",
       "prompt_number": 39,
       "text": [
        "Unit('degrees_north')"
       ]
      }
     ],
     "prompt_number": 39
    },
    {
     "cell_type": "heading",
     "level": 3,
     "metadata": {},
     "source": [
      "Data"
     ]
    },
    {
     "cell_type": "markdown",
     "metadata": {},
     "source": [
      "The field data can be accessed with the `data` attribute. It returns a Numpy array."
     ]
    },
    {
     "cell_type": "heading",
     "level": 2,
     "metadata": {},
     "source": [
      "Manipulating datasets"
     ]
    },
    {
     "cell_type": "markdown",
     "metadata": {},
     "source": [
      "It is very easy to manipulate data fields (Iris cubes)"
     ]
    },
    {
     "cell_type": "heading",
     "level": 3,
     "metadata": {},
     "source": [
      "Indexing"
     ]
    },
    {
     "cell_type": "markdown",
     "metadata": {},
     "source": [
      "Indexing a cube return a new cube. "
     ]
    },
    {
     "cell_type": "code",
     "collapsed": false,
     "input": [
      "print no2_avg"
     ],
     "language": "python",
     "metadata": {},
     "outputs": [
      {
       "output_type": "stream",
       "stream": "stdout",
       "text": [
        "IJ_AVG_S__NO2 / (ppmv)              (time: 12; longitude: 72; latitude: 46; model_level_number: 72)\n",
        "     Dimension coordinates:\n",
        "          time                           x              -             -                       -\n",
        "          longitude                      -              x             -                       -\n",
        "          latitude                       -              -             x                       -\n",
        "          model_level_number             -              -             -                       x\n",
        "     Attributes:\n",
        "          ctm_units: ppbv\n",
        "          model: GEOSFP\n"
       ]
      }
     ],
     "prompt_number": 40
    },
    {
     "cell_type": "code",
     "collapsed": false,
     "input": [
      "# Get the first element of the 1st and last dimensions (time and model level number)\n",
      "no2_avg_t0_l1 = no2_avg[0, :, :, 0]\n",
      "print no2_avg_t0_l1"
     ],
     "language": "python",
     "metadata": {},
     "outputs": [
      {
       "output_type": "stream",
       "stream": "stdout",
       "text": [
        "IJ_AVG_S__NO2 / (ppmv)              (longitude: 72; latitude: 46)\n",
        "     Dimension coordinates:\n",
        "          longitude                           x             -\n",
        "          latitude                            -             x\n",
        "     Scalar coordinates:\n",
        "          model_level_number: 1\n",
        "          time: 2012-08-01 00:00:00, bound=(2012-08-01 00:00:00, 2012-09-01 00:00:00)\n",
        "     Attributes:\n",
        "          ctm_units: ppbv\n",
        "          model: GEOSFP\n"
       ]
      }
     ],
     "prompt_number": 41
    },
    {
     "cell_type": "markdown",
     "metadata": {},
     "source": [
      "Note that another way to extract a subset is by applying one or more constraints on the cube (see above)."
     ]
    },
    {
     "cell_type": "heading",
     "level": 3,
     "metadata": {},
     "source": [
      "Iterating"
     ]
    },
    {
     "cell_type": "markdown",
     "metadata": {},
     "source": [
      "The `slice` method allow iterating over layers or time slices (return a Python generator). The slices can be 1-dimensional or n-dimensional."
     ]
    },
    {
     "cell_type": "markdown",
     "metadata": {},
     "source": [
      "The example below generate time slices (returns a 3-d cube for each time slice)."
     ]
    },
    {
     "cell_type": "code",
     "collapsed": false,
     "input": [
      "no2_avg_time_slices = no2_avg.slices(['longitude', 'latitude', 'model_level_number'])\n",
      "for s in no2_avg_time_slices:\n",
      "    print s"
     ],
     "language": "python",
     "metadata": {},
     "outputs": [
      {
       "output_type": "stream",
       "stream": "stdout",
       "text": [
        "IJ_AVG_S__NO2 / (ppmv)              (longitude: 72; latitude: 46; model_level_number: 72)\n",
        "     Dimension coordinates:\n",
        "          longitude                           x             -                       -\n",
        "          latitude                            -             x                       -\n",
        "          model_level_number                  -             -                       x\n",
        "     Scalar coordinates:\n",
        "          time: 2012-08-01 00:00:00, bound=(2012-08-01 00:00:00, 2012-09-01 00:00:00)\n",
        "     Attributes:\n",
        "          ctm_units: ppbv\n",
        "          model: GEOSFP\n",
        "IJ_AVG_S__NO2 / (ppmv)              (longitude: 72; latitude: 46; model_level_number: 72)\n",
        "     Dimension coordinates:\n",
        "          longitude                           x             -                       -\n",
        "          latitude                            -             x                       -\n",
        "          model_level_number                  -             -                       x\n",
        "     Scalar coordinates:\n",
        "          time: 2012-09-01 00:00:00, bound=(2012-09-01 00:00:00, 2012-10-01 00:00:00)\n",
        "     Attributes:\n",
        "          ctm_units: ppbv\n",
        "          model: GEOSFP\n",
        "IJ_AVG_S__NO2 / (ppmv)              (longitude: 72; latitude: 46; model_level_number: 72)\n",
        "     Dimension coordinates:\n",
        "          longitude                           x             -                       -\n",
        "          latitude                            -             x                       -\n",
        "          model_level_number                  -             -                       x\n",
        "     Scalar coordinates:\n",
        "          time: 2012-10-01 00:00:00, bound=(2012-10-01 00:00:00, 2012-11-01 00:00:00)\n",
        "     Attributes:\n",
        "          ctm_units: ppbv\n",
        "          model: GEOSFP\n",
        "IJ_AVG_S__NO2 / (ppmv)              (longitude: 72; latitude: 46; model_level_number: 72)\n",
        "     Dimension coordinates:\n",
        "          longitude                           x             -                       -\n",
        "          latitude                            -             x                       -\n",
        "          model_level_number                  -             -                       x\n",
        "     Scalar coordinates:\n",
        "          time: 2012-11-01 00:00:00, bound=(2012-11-01 00:00:00, 2012-12-01 00:00:00)\n",
        "     Attributes:\n",
        "          ctm_units: ppbv\n",
        "          model: GEOSFP\n",
        "IJ_AVG_S__NO2 / (ppmv)              (longitude: 72; latitude: 46; model_level_number: 72)\n",
        "     Dimension coordinates:\n",
        "          longitude                           x             -                       -\n",
        "          latitude                            -             x                       -\n",
        "          model_level_number                  -             -                       x\n",
        "     Scalar coordinates:\n",
        "          time: 2012-12-01 00:00:00, bound=(2012-12-01 00:00:00, 2013-01-01 00:00:00)\n",
        "     Attributes:\n",
        "          ctm_units: ppbv\n",
        "          model: GEOSFP\n",
        "IJ_AVG_S__NO2 / (ppmv)              (longitude: 72; latitude: 46; model_level_number: 72)\n",
        "     Dimension coordinates:\n",
        "          longitude                           x             -                       -\n",
        "          latitude                            -             x                       -\n",
        "          model_level_number                  -             -                       x\n",
        "     Scalar coordinates:\n",
        "          time: 2013-01-01 00:00:00, bound=(2013-01-01 00:00:00, 2013-02-01 00:00:00)\n",
        "     Attributes:\n",
        "          ctm_units: ppbv\n",
        "          model: GEOSFP\n",
        "IJ_AVG_S__NO2 / (ppmv)              (longitude: 72; latitude: 46; model_level_number: 72)\n",
        "     Dimension coordinates:\n",
        "          longitude                           x             -                       -\n",
        "          latitude                            -             x                       -\n",
        "          model_level_number                  -             -                       x\n",
        "     Scalar coordinates:\n",
        "          time: 2013-02-01 00:00:00, bound=(2013-02-01 00:00:00, 2013-03-01 00:00:00)\n",
        "     Attributes:\n",
        "          ctm_units: ppbv\n",
        "          model: GEOSFP"
       ]
      },
      {
       "output_type": "stream",
       "stream": "stdout",
       "text": [
        "\n",
        "IJ_AVG_S__NO2 / (ppmv)              (longitude: 72; latitude: 46; model_level_number: 72)\n",
        "     Dimension coordinates:\n",
        "          longitude                           x             -                       -\n",
        "          latitude                            -             x                       -\n",
        "          model_level_number                  -             -                       x\n",
        "     Scalar coordinates:\n",
        "          time: 2013-03-01 00:00:00, bound=(2013-03-01 00:00:00, 2013-04-01 00:00:00)\n",
        "     Attributes:\n",
        "          ctm_units: ppbv\n",
        "          model: GEOSFP\n",
        "IJ_AVG_S__NO2 / (ppmv)              (longitude: 72; latitude: 46; model_level_number: 72)\n",
        "     Dimension coordinates:\n",
        "          longitude                           x             -                       -\n",
        "          latitude                            -             x                       -\n",
        "          model_level_number                  -             -                       x\n",
        "     Scalar coordinates:\n",
        "          time: 2013-04-01 00:00:00, bound=(2013-04-01 00:00:00, 2013-05-01 00:00:00)\n",
        "     Attributes:\n",
        "          ctm_units: ppbv\n",
        "          model: GEOSFP\n",
        "IJ_AVG_S__NO2 / (ppmv)              (longitude: 72; latitude: 46; model_level_number: 72)\n",
        "     Dimension coordinates:\n",
        "          longitude                           x             -                       -\n",
        "          latitude                            -             x                       -\n",
        "          model_level_number                  -             -                       x\n",
        "     Scalar coordinates:\n",
        "          time: 2013-05-01 00:00:00, bound=(2013-05-01 00:00:00, 2013-06-01 00:00:00)\n",
        "     Attributes:\n",
        "          ctm_units: ppbv\n",
        "          model: GEOSFP\n",
        "IJ_AVG_S__NO2 / (ppmv)              (longitude: 72; latitude: 46; model_level_number: 72)\n",
        "     Dimension coordinates:\n",
        "          longitude                           x             -                       -\n",
        "          latitude                            -             x                       -\n",
        "          model_level_number                  -             -                       x\n",
        "     Scalar coordinates:\n",
        "          time: 2013-06-01 00:00:00, bound=(2013-06-01 00:00:00, 2013-07-01 00:00:00)\n",
        "     Attributes:\n",
        "          ctm_units: ppbv\n",
        "          model: GEOSFP\n",
        "IJ_AVG_S__NO2 / (ppmv)              (longitude: 72; latitude: 46; model_level_number: 72)\n",
        "     Dimension coordinates:\n",
        "          longitude                           x             -                       -\n",
        "          latitude                            -             x                       -\n",
        "          model_level_number                  -             -                       x\n",
        "     Scalar coordinates:\n",
        "          time: 2013-07-01 00:00:00, bound=(2013-07-01 00:00:00, 2013-08-01 00:00:00)\n",
        "     Attributes:\n",
        "          ctm_units: ppbv\n",
        "          model: GEOSFP\n"
       ]
      }
     ],
     "prompt_number": 42
    },
    {
     "cell_type": "heading",
     "level": 3,
     "metadata": {},
     "source": [
      "Collapsing data dimensions (statistics)"
     ]
    },
    {
     "cell_type": "markdown",
     "metadata": {},
     "source": [
      "The example below calculate the sum over the vertical levels"
     ]
    },
    {
     "cell_type": "code",
     "collapsed": false,
     "input": [
      "import iris.analysis\n",
      "\n",
      "no2_avg_sum_levels = no2_avg.collapsed('model_level_number', iris.analysis.SUM)\n",
      "print no2_avg_sum_levels"
     ],
     "language": "python",
     "metadata": {},
     "outputs": [
      {
       "output_type": "stream",
       "stream": "stdout",
       "text": [
        "IJ_AVG_S__NO2 / (ppmv)              (time: 12; longitude: 72; latitude: 46)\n",
        "     Dimension coordinates:\n",
        "          time                           x              -             -\n",
        "          longitude                      -              x             -\n",
        "          latitude                       -              -             x\n",
        "     Scalar coordinates:\n",
        "          model_level_number: 36, bound=(1, 72)\n",
        "     Attributes:\n",
        "          ctm_units: ppbv\n",
        "          model: GEOSFP\n",
        "     Cell methods:\n",
        "          sum: model_level_number\n"
       ]
      },
      {
       "output_type": "stream",
       "stream": "stderr",
       "text": [
        "/home/benbovy/PythonEnvs/pygchem_develop_py27/lib/python2.7/site-packages/iris/coords.py:954: UserWarning: Collapsing a non-contiguous coordinate. Metadata may not be fully descriptive for 'model_level_number'.\n",
        "  warnings.warn(msg.format(self.name()))\n"
       ]
      }
     ],
     "prompt_number": 43
    },
    {
     "cell_type": "heading",
     "level": 3,
     "metadata": {},
     "source": [
      "Basic cube mathematics"
     ]
    },
    {
     "cell_type": "markdown",
     "metadata": {},
     "source": [
      "The example below calculates the total columns of the tracer for all grid cells and all time slices:"
     ]
    },
    {
     "cell_type": "code",
     "collapsed": false,
     "input": [
      "# extract the data fields (cubes) needed to compute the tracer columns\n",
      "box_heights = dataset.extract_strict(\"BXHGHT_S__BXHEIGHT\")\n",
      "n_air = dataset.extract_strict(\"BXHGHT_S__N(AIR)\")\n",
      "\n",
      "# convert units back to ppbv for the NO2 tracer\n",
      "no2_avg.convert_units('ppbv')\n",
      "\n",
      "# calculate the columns\n",
      "no2_avg_columns = (box_heights * n_air * no2_avg).collapsed('model_level_number',\n",
      "                                                            iris.analysis.SUM)\n",
      "\n",
      "# set name convert units to count/cm2 (count is used for #molecules)\n",
      "no2_avg_columns.rename(\"NO2 columns\")\n",
      "no2_avg_columns.convert_units('count/cm2')\n",
      "\n",
      "# string repr\n",
      "print no2_avg_columns"
     ],
     "language": "python",
     "metadata": {},
     "outputs": [
      {
       "output_type": "stream",
       "stream": "stdout",
       "text": [
        "NO2 columns / (count/cm2)           (time: 12; longitude: 72; latitude: 46)\n",
        "     Dimension coordinates:\n",
        "          time                           x              -             -\n",
        "          longitude                      -              x             -\n",
        "          latitude                       -              -             x\n",
        "     Scalar coordinates:\n",
        "          model_level_number: 36, bound=(1, 72)\n",
        "     Cell methods:\n",
        "          sum: model_level_number\n"
       ]
      }
     ],
     "prompt_number": 44
    },
    {
     "cell_type": "heading",
     "level": 2,
     "metadata": {},
     "source": [
      "Plotting datasets"
     ]
    },
    {
     "cell_type": "markdown",
     "metadata": {},
     "source": [
      "Iris provides some modules for basic dataset plotting. It is built on top of [matplotlib](http://matplotlib.org/), and it uses the [cartopy package](http://scitools.org.uk/cartopy/) for map projections."
     ]
    },
    {
     "cell_type": "code",
     "collapsed": false,
     "input": [
      "import cartopy.crs as ccrs\n",
      "import matplotlib.pyplot as plt\n",
      "import iris.quickplot as qplt\n",
      "%matplotlib inline"
     ],
     "language": "python",
     "metadata": {},
     "outputs": [],
     "prompt_number": 45
    },
    {
     "cell_type": "markdown",
     "metadata": {},
     "source": [
      "Plot the NO2 total columns for the first time slice:"
     ]
    },
    {
     "cell_type": "code",
     "collapsed": false,
     "input": [
      "fig = plt.figure(figsize=(10, 8))\n",
      "qplt.contourf(no2_avg_columns[0], 15)\n",
      "plt.gca().coastlines()"
     ],
     "language": "python",
     "metadata": {},
     "outputs": [
      {
       "metadata": {},
       "output_type": "pyout",
       "prompt_number": 46,
       "text": [
        "<cartopy.mpl.feature_artist.FeatureArtist at 0x7ff7d3c6f910>"
       ]
      },
      {
       "metadata": {},
       "output_type": "display_data",
       "png": "[encoded data removed]",
       "text": [
        "<matplotlib.figure.Figure at 0x7ff7d3c5de10>"
       ]
      }
     ],
     "prompt_number": 46
    },
    {
     "cell_type": "markdown",
     "metadata": {},
     "source": [
      "A Hovmoller diagram example"
     ]
    },
    {
     "cell_type": "code",
     "collapsed": false,
     "input": [
      "import matplotlib.dates as mdates\n",
      "\n",
      "no2_hovmoller = no2_avg_columns.collapsed('latitude',\n",
      "                                          iris.analysis.MEAN)\n",
      "\n",
      "fig = plt.figure(figsize=(10, 8))\n",
      "qplt.contourf(no2_hovmoller, 20)\n",
      "\n",
      "# fine control over time axis ticks and labels\n",
      "plt.gca().yaxis.set_major_locator(mdates.MonthLocator())\n",
      "plt.gca().yaxis.set_major_formatter(mdates.DateFormatter('%m-%Y'))\n",
      "plt.gca().set_ylabel(\"Time\")"
     ],
     "language": "python",
     "metadata": {},
     "outputs": [
      {
       "output_type": "stream",
       "stream": "stderr",
       "text": [
        "/home/benbovy/PythonEnvs/pygchem_develop_py27/lib/python2.7/site-packages/iris/cube.py:2750: UserWarning: Collapsing spatial coordinate 'latitude' without weighting\n",
        "  warnings.warn(msg.format(coord.name()))\n"
       ]
      },
      {
       "metadata": {},
       "output_type": "pyout",
       "prompt_number": 47,
       "text": [
        "<matplotlib.text.Text at 0x7ff7d2082710>"
       ]
      },
      {
       "metadata": {},
       "output_type": "display_data",
       "png": "[encoded data removed]",
       "text": [
        "<matplotlib.figure.Figure at 0x7ff7dc46d490>"
       ]
      }
     ],
     "prompt_number": 47
    },
    {
     "cell_type": "heading",
     "level": 2,
     "metadata": {},
     "source": [
      "The CTM diagnostics"
     ]
    },
    {
     "cell_type": "markdown",
     "metadata": {},
     "source": [
      "For loading datasets, Pygchem reads the information stored in the `diaginfo.dat` and `tracerinfo.dat` files. The module `pygchem.diagnostics` provides a basic API for reading / writing these files and handling their contents.  "
     ]
    },
    {
     "cell_type": "code",
     "collapsed": false,
     "input": [
      "from pygchem import diagnostics"
     ],
     "language": "python",
     "metadata": {},
     "outputs": [],
     "prompt_number": 48
    },
    {
     "cell_type": "markdown",
     "metadata": {},
     "source": [
      "To load a couple of files:"
     ]
    },
    {
     "cell_type": "code",
     "collapsed": false,
     "input": [
      "dinfo = diagnostics.CTMDiagnosticInfo(diaginfo_file='diaginfo.dat',\n",
      "                                      tracerinfo_file='tracerinfo.dat')"
     ],
     "language": "python",
     "metadata": {},
     "outputs": [],
     "prompt_number": 49
    },
    {
     "cell_type": "markdown",
     "metadata": {},
     "source": [
      "A `CTMDiagnosticInfo` object contains all information stored in those files. The attributes `categories` and `diagnostics` contains each record (line) in `diaginfo.dat` and `tracerinfo.dat`, respectively "
     ]
    },
    {
     "cell_type": "code",
     "collapsed": false,
     "input": [
      "dinfo.categories"
     ],
     "language": "python",
     "metadata": {},
     "outputs": [
      {
       "html": [
        "<div>Record list of 138 CTMCategory:</div><table><tr><td style='font-weight:bold;'></td><td style='font-weight:bold;'>Key</td><td style='font-weight:bold;'>CTMCategory</td></tr><tr><td>0</td><td>IJ-AVG-$</td><td>CTMCategory(offset=0, name=IJ-AVG-$, description=Tracer concentration)</td></tr><tr><td>1</td><td>IJ-24H-$</td><td>CTMCategory(offset=0, name=IJ-24H-$, description=24-hr avg tracer conc.)</td></tr><tr><td>2</td><td>INST-MAP</td><td>CTMCategory(offset=0, name=INST-MAP, description=Instantaneous tracer)</td></tr><tr><td>3</td><td>IJ-MAX-$</td><td>CTMCategory(offset=0, name=IJ-MAX-$, description=Surface peak concentration)</td></tr><tr><td>4</td><td>ANTHSRCE</td><td>CTMCategory(offset=1000, name=ANTHSRCE, description=Anthropogenic emissions)</td></tr><tr><td>5</td><td>BIOFSRCE</td><td>CTMCategory(offset=1000, name=BIOFSRCE, description=Biofuel emissions)</td></tr><tr><td>6</td><td>NO-AC-$</td><td>CTMCategory(offset=1000, name=NO-AC-$, description=Aircraft NO)</td></tr><tr><td>7</td><td>NO-AN-$</td><td>CTMCategory(offset=1000, name=NO-AN-$, description=Anthropogenic NO)</td></tr><tr><td>8</td><td>NO-BIOB</td><td>CTMCategory(offset=1000, name=NO-BIOB, description=Biomass NO)</td></tr><tr><td>9</td><td>NO-BIOF</td><td>CTMCategory(offset=1000, name=NO-BIOF, description=Biofuel NO)</td></tr><tr><td>10</td><td>NO-LI-$</td><td>CTMCategory(offset=1000, name=NO-LI-$, description=Lightning NO)</td></tr><tr><td>11</td><td>NO-SOIL</td><td>CTMCategory(offset=1000, name=NO-SOIL, description=Soil NO)</td></tr><tr><td>12</td><td>NO-FERT</td><td>CTMCategory(offset=1000, name=NO-FERT, description=Fertilizer NO)</td></tr><tr><td>13</td><td>NO-STRT</td><td>CTMCategory(offset=1000, name=NO-STRT, description=Stratopsheric NO)</td></tr><tr><td>14</td><td>INST_COL</td><td>CTMCategory(offset=2000, name=INST_COL, description=Instantaneous columns)</td></tr><tr><td>15</td><td>CV-FLX-$</td><td>CTMCategory(offset=3000, name=CV-FLX-$, description=Convective mass flux)</td></tr><tr><td>16</td><td>TURBMC-$</td><td>CTMCategory(offset=3000, name=TURBMC-$, description=PBL mixing mass flux)</td></tr><tr><td>17</td><td>EW-FLX-$</td><td>CTMCategory(offset=3000, name=EW-FLX-$, description=E/W transport flux)</td></tr><tr><td>18</td><td>NS-FLX-$</td><td>CTMCategory(offset=3000, name=NS-FLX-$, description=N/S transport flux)</td></tr><tr><td>19</td><td>UP-FLX-$</td><td>CTMCategory(offset=3000, name=UP-FLX-$, description=Up/down transport flux)</td></tr><tr><td>20</td><td>STRT-FLX</td><td>CTMCategory(offset=3000, name=STRT-FLX, description=Flux from stratosphere)</td></tr><tr><td>21</td><td>RN--SRCE</td><td>CTMCategory(offset=3000, name=RN--SRCE, description=Rn-Pb-Be source)</td></tr><tr><td>22</td><td>RN-DECAY</td><td>CTMCategory(offset=3000, name=RN-DECAY, description=Rn-Pb-Be loss)</td></tr><tr><td>23</td><td>WETDCV-$</td><td>CTMCategory(offset=3000, name=WETDCV-$, description=Conv wet scavenging)</td></tr><tr><td>24</td><td>WETDLS-$</td><td>CTMCategory(offset=3000, name=WETDLS-$, description=Wet deposition)</td></tr><tr><td>25</td><td>MC-FRC-$</td><td>CTMCategory(offset=3000, name=MC-FRC-$, description=Moist conv fraction)</td></tr><tr><td>26</td><td>DMS-BIOG</td><td>CTMCategory(offset=4000, name=DMS-BIOG, description=Biogenic DMS)</td></tr><tr><td>27</td><td>DUSTSRCE</td><td>CTMCategory(offset=4000, name=DUSTSRCE, description=Dust emission)</td></tr><tr><td>28</td><td>NVOCSRCE</td><td>CTMCategory(offset=4000, name=NVOCSRCE, description=NVOC emissions)</td></tr><tr><td>29</td><td>SALTSRCE</td><td>CTMCategory(offset=4000, name=SALTSRCE, description=Seasalt emission)</td></tr><tr><td>30</td><td>SO2-AC-$</td><td>CTMCategory(offset=4000, name=SO2-AC-$, description=Aircraft SO2 emissions)</td></tr><tr><td>31</td><td>SO2-AN-$</td><td>CTMCategory(offset=4000, name=SO2-AN-$, description=Anthro SO2 emissions)</td></tr><tr><td>32</td><td>SO2-BIOB</td><td>CTMCategory(offset=4000, name=SO2-BIOB, description=Biomass SO2 emissions)</td></tr><tr><td>33</td><td>SO2-BIOF</td><td>CTMCategory(offset=4000, name=SO2-BIOF, description=Biofuel SO2 emissions)</td></tr><tr><td>34</td><td>SO2-EV-$</td><td>CTMCategory(offset=4000, name=SO2-EV-$, description=Erup. Volcano SO2)</td></tr><tr><td>35</td><td>SO2-NV-$</td><td>CTMCategory(offset=4000, name=SO2-NV-$, description=Non-Erup. Volcano SO2)</td></tr><tr><td>36</td><td>SO2-SHIP</td><td>CTMCategory(offset=4000, name=SO2-SHIP, description=SO2 from ship exhaust)</td></tr><tr><td>37</td><td>SO4-AN-$</td><td>CTMCategory(offset=4000, name=SO4-AN-$, description=Anthro SO4 emissions)</td></tr><tr><td>38</td><td>SO4-BIOF</td><td>CTMCategory(offset=4000, name=SO4-BIOF, description=Biofuel SO4 emissions)</td></tr><tr><td>39</td><td>NH3-ANTH</td><td>CTMCategory(offset=4000, name=NH3-ANTH, description=Anthro NH3 emissions)</td></tr><tr><td>40</td><td>NH3-NATU</td><td>CTMCategory(offset=4000, name=NH3-NATU, description=Natural NH3 emissions)</td></tr><tr><td>41</td><td>NH3-BIOB</td><td>CTMCategory(offset=4000, name=NH3-BIOB, description=Biomass NH3 emissions)</td></tr><tr><td>42</td><td>NH3-BIOF</td><td>CTMCategory(offset=4000, name=NH3-BIOF, description=Biofuel NH3 emissions)</td></tr><tr><td>43</td><td>TROPO-AV</td><td>CTMCategory(offset=4000, name=TROPO-AV, description=Trop avg'd tracer)</td></tr><tr><td>44</td><td>TCMASS-$</td><td>CTMCategory(offset=4000, name=TCMASS-$, description=Tracer mass (kg))</td></tr><tr><td>45</td><td>PEDGE-$</td><td>CTMCategory(offset=10000, name=PEDGE-$, description=Pressure at level edges)</td></tr><tr><td>46</td><td>PS-PTOP</td><td>CTMCategory(offset=10000, name=PS-PTOP, description=Pressure level edges)</td></tr><tr><td>47</td><td>DAO-FLDS</td><td>CTMCategory(offset=11000, name=DAO-FLDS, description=GMAO 2-D met fields)</td></tr><tr><td>48</td><td>DAO-3D-$</td><td>CTMCategory(offset=12000, name=DAO-3D-$, description=GMAO 3-D met fields)</td></tr><tr><td>49</td><td>JV-MAP-$</td><td>CTMCategory(offset=13000, name=JV-MAP-$, description=Photolysis rates)</td></tr><tr><td>50</td><td>OD-MAP-$</td><td>CTMCategory(offset=14000, name=OD-MAP-$, description=Optical Depths)</td></tr><tr><td>...</td><td>...</td><td>...</td></tr><tr><td>137</td><td>IJ-PSC-$</td><td>CTMCategory(offset=55000, name=IJ-PSC-$, description=PSC restart file)</td></tr></table>"
       ],
       "metadata": {},
       "output_type": "pyout",
       "prompt_number": 50,
       "text": [
        "<RecordList(138 CTMCategory, keys=['IJ-AVG-$', 'IJ-24H-$', 'INST-MAP', 'IJ-MAX-$', 'ANTHSRCE', 'BIOFSRCE', 'NO-AC-$', ... , 'IJ-PSC-$'])>"
       ]
      }
     ],
     "prompt_number": 50
    },
    {
     "cell_type": "markdown",
     "metadata": {},
     "source": [
      "These attributes behave like a Python list, with added key reference and database lookup-like capabilities. Each item of the list coorespond to a record."
     ]
    },
    {
     "cell_type": "code",
     "collapsed": false,
     "input": [
      "# get the 1st category (a Record like object)\n",
      "cat_ij_avg = dinfo.categories[0]\n",
      "cat_ij_avg"
     ],
     "language": "python",
     "metadata": {},
     "outputs": [
      {
       "metadata": {},
       "output_type": "pyout",
       "prompt_number": 51,
       "text": [
        "CTMCategory(offset=0, name=IJ-AVG-$, description=Tracer concentration)"
       ]
      }
     ],
     "prompt_number": 51
    },
    {
     "cell_type": "code",
     "collapsed": false,
     "input": [
      "cat_ij_avg.name"
     ],
     "language": "python",
     "metadata": {},
     "outputs": [
      {
       "metadata": {},
       "output_type": "pyout",
       "prompt_number": 52,
       "text": [
        "'IJ-AVG-$'"
       ]
      }
     ],
     "prompt_number": 52
    },
    {
     "cell_type": "code",
     "collapsed": false,
     "input": [
      "cat_ij_avg.offset"
     ],
     "language": "python",
     "metadata": {},
     "outputs": [
      {
       "metadata": {},
       "output_type": "pyout",
       "prompt_number": 53,
       "text": [
        "0"
       ]
      }
     ],
     "prompt_number": 53
    },
    {
     "cell_type": "code",
     "collapsed": false,
     "input": [
      "# convert the record object to a dict\n",
      "cat_ij_avg.to_dict()"
     ],
     "language": "python",
     "metadata": {},
     "outputs": [
      {
       "metadata": {},
       "output_type": "pyout",
       "prompt_number": 54,
       "text": [
        "{'description': 'Tracer concentration', 'name': 'IJ-AVG-$', 'offset': 0}"
       ]
      }
     ],
     "prompt_number": 54
    },
    {
     "cell_type": "markdown",
     "metadata": {},
     "source": [
      "It is aslo possible to filter the data (queries):"
     ]
    },
    {
     "cell_type": "code",
     "collapsed": false,
     "input": [
      "# select a category based on its name (key)\n",
      "dinfo.categories.select_item(\"NS-FLX-$\")"
     ],
     "language": "python",
     "metadata": {},
     "outputs": [
      {
       "metadata": {},
       "output_type": "pyout",
       "prompt_number": 55,
       "text": [
        "CTMCategory(offset=3000, name=NS-FLX-$, description=N/S transport flux)"
       ]
      }
     ],
     "prompt_number": 55
    },
    {
     "cell_type": "code",
     "collapsed": false,
     "input": [
      "# select a diagnostic (tracer) based on its number (key)\n",
      "dinfo.diagnostics.select_item(11)"
     ],
     "language": "python",
     "metadata": {},
     "outputs": [
      {
       "metadata": {},
       "output_type": "pyout",
       "prompt_number": 56,
       "text": [
        "CTMDiagnostic(number=11, name=ALD2, full_name=ALD2 tracer, unit=ppbC, scale=1000000000.0, chemical=True, molecular_weight=0.012, hydrocarbon=True, carbon_weight=2)"
       ]
      }
     ],
     "prompt_number": 56
    },
    {
     "cell_type": "code",
     "collapsed": false,
     "input": [
      "# select categories based on other attributes\n",
      "dinfo.categories.select(offset=3000)"
     ],
     "language": "python",
     "metadata": {},
     "outputs": [
      {
       "html": [
        "<div>Record list of 11 selected CTMCategory:</div><table><tr><td style='font-weight:bold;'></td><td style='font-weight:bold;'>Key</td><td style='font-weight:bold;'>CTMCategory</td></tr><tr><td>0</td><td>CV-FLX-$</td><td>CTMCategory(offset=3000, name=CV-FLX-$, description=Convective mass flux)</td></tr><tr><td>1</td><td>TURBMC-$</td><td>CTMCategory(offset=3000, name=TURBMC-$, description=PBL mixing mass flux)</td></tr><tr><td>2</td><td>EW-FLX-$</td><td>CTMCategory(offset=3000, name=EW-FLX-$, description=E/W transport flux)</td></tr><tr><td>3</td><td>NS-FLX-$</td><td>CTMCategory(offset=3000, name=NS-FLX-$, description=N/S transport flux)</td></tr><tr><td>4</td><td>UP-FLX-$</td><td>CTMCategory(offset=3000, name=UP-FLX-$, description=Up/down transport flux)</td></tr><tr><td>5</td><td>STRT-FLX</td><td>CTMCategory(offset=3000, name=STRT-FLX, description=Flux from stratosphere)</td></tr><tr><td>6</td><td>RN--SRCE</td><td>CTMCategory(offset=3000, name=RN--SRCE, description=Rn-Pb-Be source)</td></tr><tr><td>7</td><td>RN-DECAY</td><td>CTMCategory(offset=3000, name=RN-DECAY, description=Rn-Pb-Be loss)</td></tr><tr><td>8</td><td>WETDCV-$</td><td>CTMCategory(offset=3000, name=WETDCV-$, description=Conv wet scavenging)</td></tr><tr><td>9</td><td>WETDLS-$</td><td>CTMCategory(offset=3000, name=WETDLS-$, description=Wet deposition)</td></tr><tr><td>10</td><td>MC-FRC-$</td><td>CTMCategory(offset=3000, name=MC-FRC-$, description=Moist conv fraction)</td></tr></table>"
       ],
       "metadata": {},
       "output_type": "pyout",
       "prompt_number": 57,
       "text": [
        "<RecordList(11 selected CTMCategory, keys=['CV-FLX-$', 'TURBMC-$', 'EW-FLX-$', 'NS-FLX-$', 'UP-FLX-$', 'STRT-FLX', 'RN--SRCE', ... , 'MC-FRC-$'])>"
       ]
      }
     ],
     "prompt_number": 57
    },
    {
     "cell_type": "code",
     "collapsed": false,
     "input": [
      "# advanced selection\n",
      "dinfo.diagnostics.select(lambda d: d.unit == 'ppbC' and d.number > 10)"
     ],
     "language": "python",
     "metadata": {},
     "outputs": [
      {
       "html": [
        "<div>Record list of 4 selected CTMDiagnostic:</div><table><tr><td style='font-weight:bold;'></td><td style='font-weight:bold;'>Key</td><td style='font-weight:bold;'>CTMDiagnostic</td></tr><tr><td>0</td><td>11</td><td>CTMDiagnostic(number=11, name=ALD2, full_name=ALD2 tracer, unit=ppbC, scale=1000000000.0, chemical=True, molecular_weight=0.012, hydrocarbon=True, carbon_weight=2)</td></tr><tr><td>1</td><td>18</td><td>CTMDiagnostic(number=18, name=PRPE, full_name=PRPE tracer, unit=ppbC, scale=1000000000.0, chemical=True, molecular_weight=0.012, hydrocarbon=True, carbon_weight=3)</td></tr><tr><td>2</td><td>19</td><td>CTMDiagnostic(number=19, name=C3H8, full_name=C3H8 tracer, unit=ppbC, scale=1000000000.0, chemical=True, molecular_weight=0.012, hydrocarbon=True, carbon_weight=3)</td></tr><tr><td>3</td><td>21</td><td>CTMDiagnostic(number=21, name=C2H6, full_name=C2H6 tracer, unit=ppbC, scale=1000000000.0, chemical=True, molecular_weight=0.012, hydrocarbon=True, carbon_weight=2)</td></tr></table>"
       ],
       "metadata": {},
       "output_type": "pyout",
       "prompt_number": 58,
       "text": [
        "<RecordList(4 selected CTMDiagnostic, keys=[11, 18, 19, 21])>"
       ]
      }
     ],
     "prompt_number": 58
    },
    {
     "cell_type": "markdown",
     "metadata": {},
     "source": [
      "We can add or remove entries:"
     ]
    },
    {
     "cell_type": "code",
     "collapsed": false,
     "input": [
      "new_tracer = diagnostics.CTMDiagnostic(9999, 'NEW', full_name='a new tracer')\n",
      "\n",
      "dinfo.diagnostics.append(new_tracer)\n",
      "\n",
      "dinfo.diagnostics[-1]"
     ],
     "language": "python",
     "metadata": {},
     "outputs": [
      {
       "metadata": {},
       "output_type": "pyout",
       "prompt_number": 59,
       "text": [
        "CTMDiagnostic(number=9999, name=NEW, full_name=a new tracer, unit=unitless, scale=1.0, chemical=True, molecular_weight=0.0, hydrocarbon=False, carbon_weight=0)"
       ]
      }
     ],
     "prompt_number": 59
    },
    {
     "cell_type": "code",
     "collapsed": false,
     "input": [
      "# select the new tracer added to the list \n",
      "s = dinfo.diagnostics.select(9999)\n",
      "\n",
      "# remove the selected entry\n",
      "s.selection_remove()\n",
      "\n",
      "dinfo.diagnostics[-1]"
     ],
     "language": "python",
     "metadata": {},
     "outputs": [
      {
       "metadata": {},
       "output_type": "pyout",
       "prompt_number": 60,
       "text": [
        "CTMDiagnostic(number=24004, name=N(AIR), full_name=Number density of air, unit=molec/m3, scale=1.0, chemical=False, molecular_weight=0.0, hydrocarbon=False, carbon_weight=1)"
       ]
      }
     ],
     "prompt_number": 60
    },
    {
     "cell_type": "markdown",
     "metadata": {},
     "source": [
      "Exporting to diaginfo and tracerinfo files:"
     ]
    },
    {
     "cell_type": "code",
     "collapsed": false,
     "input": [
      "dinfo.save_diaginfo('diaginfo_test.dat')\n",
      "dinfo.save_tracerinfo('tracerinfo_test.dat')"
     ],
     "language": "python",
     "metadata": {},
     "outputs": [
      {
       "ename": "NotYetImplementedError",
       "evalue": "",
       "output_type": "pyerr",
       "traceback": [
        "\u001b[1;31m---------------------------------------------------------------------------\u001b[0m\n\u001b[1;31mNotYetImplementedError\u001b[0m                    Traceback (most recent call last)",
        "\u001b[1;32m<ipython-input-61-9a028bf8abc0>\u001b[0m in \u001b[0;36m<module>\u001b[1;34m()\u001b[0m\n\u001b[1;32m----> 1\u001b[1;33m \u001b[0mdinfo\u001b[0m\u001b[1;33m.\u001b[0m\u001b[0msave_diaginfo\u001b[0m\u001b[1;33m(\u001b[0m\u001b[1;34m'diaginfo_test.dat'\u001b[0m\u001b[1;33m)\u001b[0m\u001b[1;33m\u001b[0m\u001b[0m\n\u001b[0m\u001b[0;32m      2\u001b[0m \u001b[0mdinfo\u001b[0m\u001b[1;33m.\u001b[0m\u001b[0msave_tracerinfo\u001b[0m\u001b[1;33m(\u001b[0m\u001b[1;34m'tracerinfo_test.dat'\u001b[0m\u001b[1;33m)\u001b[0m\u001b[1;33m\u001b[0m\u001b[0m\n",
        "\u001b[1;32m/mnt/hgfs/Altair/GitRepos/PyGChem/pygchem/diagnostics.pyc\u001b[0m in \u001b[0;36msave_diaginfo\u001b[1;34m(self, filename)\u001b[0m\n\u001b[0;32m    127\u001b[0m         \u001b[0mTODO\u001b[0m\u001b[1;33m:\u001b[0m\u001b[1;33m\u001b[0m\u001b[0m\n\u001b[0;32m    128\u001b[0m         \"\"\"\n\u001b[1;32m--> 129\u001b[1;33m         \u001b[1;32mraise\u001b[0m \u001b[0mNotYetImplementedError\u001b[0m\u001b[1;33m(\u001b[0m\u001b[1;33m)\u001b[0m\u001b[1;33m\u001b[0m\u001b[0m\n\u001b[0m\u001b[0;32m    130\u001b[0m \u001b[1;33m\u001b[0m\u001b[0m\n\u001b[0;32m    131\u001b[0m     \u001b[1;32mdef\u001b[0m \u001b[0msave_tracerinfo\u001b[0m\u001b[1;33m(\u001b[0m\u001b[0mself\u001b[0m\u001b[1;33m,\u001b[0m \u001b[0mfilename\u001b[0m\u001b[1;33m)\u001b[0m\u001b[1;33m:\u001b[0m\u001b[1;33m\u001b[0m\u001b[0m\n",
        "\u001b[1;31mNotYetImplementedError\u001b[0m: "
       ]
      }
     ],
     "prompt_number": 61
    },
    {
     "cell_type": "code",
     "collapsed": false,
     "input": [],
     "language": "python",
     "metadata": {},
     "outputs": []
    }
   ],
   "metadata": {}
  }
 ]
}