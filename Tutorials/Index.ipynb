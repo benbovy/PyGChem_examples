{
 "metadata": {
  "name": "",
  "signature": "sha256:b9c23c0528542e1bd69bf831b28c6b8c4ccb1620c9d9816f6596807069c7b9da"
 },
 "nbformat": 3,
 "nbformat_minor": 0,
 "worksheets": [
  {
   "cells": [
    {
     "cell_type": "heading",
     "level": 1,
     "metadata": {},
     "source": [
      "PyGChem Tutorials"
     ]
    },
    {
     "cell_type": "markdown",
     "metadata": {},
     "source": [
      "This section introduces the PyGChem\u2019s most noteworthy features and helps to familiarize yourself with the PyGChem's main object types and functions. For more specific use cases, check the [examples section](../Examples/Index.ipynb)."
     ]
    },
    {
     "cell_type": "heading",
     "level": 2,
     "metadata": {},
     "source": [
      "Topics"
     ]
    },
    {
     "cell_type": "markdown",
     "metadata": {},
     "source": [
      "- [Datasets](Datasets.ipynb)\n",
      "- [Emissions (HEMCO)](Emissions.ipynb)"
     ]
    }
   ],
   "metadata": {}
  }
 ]
}