{
 "cells": [
  {
   "cell_type": "markdown",
   "metadata": {},
   "source": [
    "# Emissions: HEMCO Python API"
   ]
  },
  {
   "cell_type": "markdown",
   "metadata": {},
   "source": [
    "The module `pygchem.emissions` provides an API for Harvard-NASA Emissions Component (HEMCO). Currently, it allows to read / write HEMCO configuration files and to browse or edit an existing configuration (or create a new configuration from scratch).\n",
    "\n",
    "**Note: this module is under active development and doesn't work yet with the last release of HEMCO.**"
   ]
  },
  {
   "cell_type": "code",
   "execution_count": 2,
   "metadata": {
    "collapsed": false
   },
   "outputs": [],
   "source": [
    "from pygchem import emissions"
   ]
  },
  {
   "cell_type": "markdown",
   "metadata": {},
   "source": [
    "## Loading a configuration from file"
   ]
  },
  {
   "cell_type": "markdown",
   "metadata": {},
   "source": [
    "We will use the following file as an example:"
   ]
  },
  {
   "cell_type": "code",
   "execution_count": 3,
   "metadata": {
    "collapsed": false
   },
   "outputs": [],
   "source": [
    "hemco_example_file = '../data/HEMCO_test'"
   ]
  },
  {
   "cell_type": "markdown",
   "metadata": {},
   "source": [
    "The following line loads the setup detailled in that file:"
   ]
  },
  {
   "cell_type": "code",
   "execution_count": 4,
   "metadata": {
    "collapsed": false
   },
   "outputs": [],
   "source": [
    "hemco_setup = emissions.load_setup(hemco_example_file)"
   ]
  },
  {
   "cell_type": "markdown",
   "metadata": {},
   "source": [
    "## Browsing the configuration setup"
   ]
  },
  {
   "cell_type": "markdown",
   "metadata": {},
   "source": [
    "### Browsing through the configuration tree"
   ]
  },
  {
   "cell_type": "markdown",
   "metadata": {},
   "source": [
    "The HEMCO setup consists of several extensions (including the HEMCO Core extension), which may have one or several attached emission data fields. Each emission data field may, in turn, have one or several scale factor or mask data fields that will be applied to it. "
   ]
  },
  {
   "cell_type": "markdown",
   "metadata": {},
   "source": [
    "Use the `extensions` attribute to access to all extensions listed in the setup:"
   ]
  },
  {
   "cell_type": "code",
   "execution_count": 5,
   "metadata": {
    "collapsed": false
   },
   "outputs": [
    {
     "data": {
      "text/html": [
       "<div>Record list of 12 EmissionExt:</div><table><tr><td style='font-weight:bold;'></td><td style='font-weight:bold;'>Key</td><td style='font-weight:bold;'>EmissionExt</td></tr><tr><td>0</td><td>Core</td><td>EmissionExt(name=Core, enabled=True, base_emission_fields=&lt;RecordList(304 EmissionBase, keys=['GEIA_ALK4', 'GEIA_ACET', 'GEIA_PRPE', 'GEIA_MEK', 'GEIA_NH3_ANTH', 'GEIA_NH3_BIOF', 'GEIA_NH3_NATU', ... , 'GFED3_CH4_WDL'])&gt;, extension_data=&lt;RecordList(0 EmissionBase, keys=[])&gt;, species=None, settings={}, eid=0)</td></tr><tr><td>1</td><td>Custom</td><td>EmissionExt(name=Custom, enabled=False, base_emission_fields=&lt;RecordList(0 EmissionBase, keys=[])&gt;, extension_data=&lt;RecordList(0 EmissionBase, keys=[])&gt;, species=[], settings={}, eid=100)</td></tr><tr><td>2</td><td>SeaFlux</td><td>EmissionExt(name=SeaFlux, enabled=True, base_emission_fields=&lt;RecordList(0 EmissionBase, keys=[])&gt;, extension_data=&lt;RecordList(3 EmissionBase, keys=['CH3I_SEAWATER', 'DMS_SEAWATER', 'ACET_SEAWATER'])&gt;, species=['CH3I', 'DMS', 'ACET'], settings={}, eid=101)</td></tr><tr><td>3</td><td>ParaNOx</td><td>EmissionExt(name=ParaNOx, enabled=True, base_emission_fields=&lt;RecordList(0 EmissionBase, keys=[])&gt;, extension_data=&lt;RecordList(3 EmissionBase, keys=['ICOADS_SHIP_NO', 'EDGAR_SHIP_NO', 'EMEP_SHIP_NO'])&gt;, species=['NO', 'NO2', 'O3', 'HNO3'], settings={}, eid=102)</td></tr><tr><td>4</td><td>LightNOx</td><td>EmissionExt(name=LightNOx, enabled=True, base_emission_fields=&lt;RecordList(0 EmissionBase, keys=[])&gt;, extension_data=&lt;RecordList(1 EmissionBase, keys=['LIGHTNOX_REDIST'])&gt;, species=['NO'], settings={'CDF table': '/home/ckeller/data/emis/LIGHTNOX/light_dist.ott2010.dat'}, eid=103)</td></tr><tr><td>5</td><td>SoilNOx</td><td>EmissionExt(name=SoilNOx, enabled=True, base_emission_fields=&lt;RecordList(0 EmissionBase, keys=[])&gt;, extension_data=&lt;RecordList(31 EmissionBase, keys=['SOILNOX_PFACT', 'SOILNOX_DRYPER', 'SOILNOX_GWET', 'SOILNOX_DEPRES', 'SOILNOX_FERT', 'SOILNOX_LANDK1', 'SOILNOX_LANDK2', ... , 'SOILNOX_NONARID'])&gt;, species=['NO'], settings={'Use fertilizer NOx': True}, eid=104)</td></tr><tr><td>6</td><td>DustDead</td><td>EmissionExt(name=DustDead, enabled=True, base_emission_fields=&lt;RecordList(0 EmissionBase, keys=[])&gt;, extension_data=&lt;RecordList(8 EmissionBase, keys=['DEAD_EF_GEO', 'DEAD_LF_DRY', 'DEAD_MF_CACO3', 'DEAD_MF_CLY', 'DEAD_MF_SND', 'DEAD_SFC_TYP', 'DEAD_GOC_SRC', 'DEAD_VAI'])&gt;, species=['DST1', 'DST2', 'DST3', 'DST4'], settings={}, eid=105)</td></tr><tr><td>7</td><td>DustGinoux</td><td>EmissionExt(name=DustGinoux, enabled=False, base_emission_fields=&lt;RecordList(0 EmissionBase, keys=[])&gt;, extension_data=&lt;RecordList(3 EmissionBase, keys=['GINOUX_SAND', 'GINOUX_SILT', 'GINOUX_CLAY'])&gt;, species=['DST1', 'DST2', 'DST3', 'DST4'], settings={}, eid=106)</td></tr><tr><td>8</td><td>SeaSalt</td><td>EmissionExt(name=SeaSalt, enabled=True, base_emission_fields=&lt;RecordList(0 EmissionBase, keys=[])&gt;, extension_data=&lt;RecordList(0 EmissionBase, keys=[])&gt;, species=['SALA', 'SALC', 'Br2'], settings={'SALA upper radius': 0.5, 'SALA lower radius': 0.01, 'SALC upper radius': 8.0, 'Emit Br2': True, 'Br2 scaling': 1.0, 'SALC lower radius': 0.5}, eid=107)</td></tr><tr><td>9</td><td>MEGAN</td><td>EmissionExt(name=MEGAN, enabled=True, base_emission_fields=&lt;RecordList(0 EmissionBase, keys=[])&gt;, extension_data=&lt;RecordList(2 EmissionBase, keys=['MEGAN_AEF_ISOP', 'MEGAN_AEF_ACET'])&gt;, species=['ISOP', 'ACET', 'PRPE', 'C2H4'], settings={'PECCA model': True, 'Isoprene scaling': 1.0}, eid=108)</td></tr><tr><td>10</td><td>MEGAN_Mono</td><td>EmissionExt(name=MEGAN_Mono, enabled=True, base_emission_fields=&lt;RecordList(0 EmissionBase, keys=[])&gt;, extension_data=&lt;RecordList(9 EmissionBase, keys=['MEGAN_AEF_MONOT', 'MEGAN_AEF_MBO', 'MEGAN_AEF_APINE', 'MEGAN_AEF_BPINE', 'MEGAN_AEF_LIMON', 'MEGAN_AEF_SABIN', 'MEGAN_AEF_MYRCN', ... , 'MEGAN_AEF_OCIMN'])&gt;, species=['MONX', 'OCPI', 'CO'], settings={}, eid=109)</td></tr><tr><td>11</td><td>MEGAN_SOA</td><td>EmissionExt(name=MEGAN_SOA, enabled=False, base_emission_fields=&lt;RecordList(0 EmissionBase, keys=[])&gt;, extension_data=&lt;RecordList(1 EmissionBase, keys=['MEGAN_ORVC'])&gt;, species=['ALPH', 'LIMO', 'ALCO'], settings={}, eid=110)</td></tr></table>"
      ],
      "text/plain": [
       "<RecordList(12 EmissionExt, keys=['Core', 'Custom', 'SeaFlux', 'ParaNOx', 'LightNOx', 'SoilNOx', 'DustDead', ... , 'MEGAN_SOA'])>"
      ]
     },
     "execution_count": 5,
     "metadata": {},
     "output_type": "execute_result"
    }
   ],
   "source": [
    "hemco_setup.extensions"
   ]
  },
  {
   "cell_type": "markdown",
   "metadata": {},
   "source": [
    "The `extensions` attribute is a `RecordList` object (see the `pygchem.utils.data_structures` module). That object mainly behaves like a Python list, but it also allows to select extensions based on their properties, to remove selected extensions or to add new extensions.\n",
    "\n",
    "Each item in the `RecordList` is an `EmmisionExt` object, which inherits from the `Record` class."
   ]
  },
  {
   "cell_type": "markdown",
   "metadata": {},
   "source": [
    "Select one extension based on its name:"
   ]
  },
  {
   "cell_type": "code",
   "execution_count": 6,
   "metadata": {
    "collapsed": false
   },
   "outputs": [
    {
     "data": {
      "text/plain": [
       "EmissionExt(name=MEGAN, enabled=True, base_emission_fields=<RecordList(0 EmissionBase, keys=[])>, extension_data=<RecordList(2 EmissionBase, keys=['MEGAN_AEF_ISOP', 'MEGAN_AEF_ACET'])>, species=['ISOP', 'ACET', 'PRPE', 'C2H4'], settings={'PECCA model': True, 'Isoprene scaling': 1.0}, eid=108)"
      ]
     },
     "execution_count": 6,
     "metadata": {},
     "output_type": "execute_result"
    }
   ],
   "source": [
    "megan_ext = hemco_setup.extensions.select_item(\"MEGAN\")\n",
    "megan_ext"
   ]
  },
  {
   "cell_type": "markdown",
   "metadata": {},
   "source": [
    "Select one or several extensions based on other attributes:"
   ]
  },
  {
   "cell_type": "code",
   "execution_count": 7,
   "metadata": {
    "collapsed": false
   },
   "outputs": [
    {
     "data": {
      "text/plain": [
       "['Custom', 'DustGinoux', 'MEGAN_SOA']"
      ]
     },
     "execution_count": 7,
     "metadata": {},
     "output_type": "execute_result"
    }
   ],
   "source": [
    "selection = hemco_setup.extensions.select(enabled=False)\n",
    "\n",
    "# get the names of the selected extensions\n",
    "selection.keys"
   ]
  },
  {
   "cell_type": "markdown",
   "metadata": {},
   "source": [
    "Some parameters related to the previously selected extension:"
   ]
  },
  {
   "cell_type": "code",
   "execution_count": 8,
   "metadata": {
    "collapsed": false
   },
   "outputs": [
    {
     "data": {
      "text/plain": [
       "'MEGAN'"
      ]
     },
     "execution_count": 8,
     "metadata": {},
     "output_type": "execute_result"
    }
   ],
   "source": [
    "megan_ext.name"
   ]
  },
  {
   "cell_type": "code",
   "execution_count": 9,
   "metadata": {
    "collapsed": false
   },
   "outputs": [
    {
     "data": {
      "text/plain": [
       "True"
      ]
     },
     "execution_count": 9,
     "metadata": {},
     "output_type": "execute_result"
    }
   ],
   "source": [
    "megan_ext.enabled"
   ]
  },
  {
   "cell_type": "code",
   "execution_count": 10,
   "metadata": {
    "collapsed": false
   },
   "outputs": [
    {
     "data": {
      "text/plain": [
       "108"
      ]
     },
     "execution_count": 10,
     "metadata": {},
     "output_type": "execute_result"
    }
   ],
   "source": [
    "megan_ext.eid   # extension ID"
   ]
  },
  {
   "cell_type": "code",
   "execution_count": 11,
   "metadata": {
    "collapsed": false
   },
   "outputs": [
    {
     "data": {
      "text/plain": [
       "{'Isoprene scaling': 1.0, 'PECCA model': True}"
      ]
     },
     "execution_count": 11,
     "metadata": {},
     "output_type": "execute_result"
    }
   ],
   "source": [
    "megan_ext.settings"
   ]
  },
  {
   "cell_type": "markdown",
   "metadata": {},
   "source": [
    "Get all base emission fields assigned to the extension:"
   ]
  },
  {
   "cell_type": "code",
   "execution_count": 12,
   "metadata": {
    "collapsed": false
   },
   "outputs": [
    {
     "name": "stdout",
     "output_type": "stream",
     "text": [
      "Record list of 0 EmissionBase:\n",
      "\n"
     ]
    }
   ],
   "source": [
    "megan_bef = megan_ext.base_emission_fields\n",
    "print megan_bef"
   ]
  },
  {
   "cell_type": "markdown",
   "metadata": {},
   "source": [
    "Get all extension data fields for this extension:"
   ]
  },
  {
   "cell_type": "code",
   "execution_count": 13,
   "metadata": {
    "collapsed": false
   },
   "outputs": [
    {
     "name": "stdout",
     "output_type": "stream",
     "text": [
      "Record list of 2 EmissionBase:\n",
      "0 | MEGAN_AEF_ISOP: EmissionBase(name=MEGAN_AEF_ISOP, filename=/home/ckeller/data/emis/MEGAN/nc/MEGANv2.1_AEF.geos.1x1.nc, var_name=AEF_ISOPRENE, ndim=2, units=kgC/m2/s, timeslicer=1985/1/1/0, species=ISOP, category=1, hierarchy=1, datafield=None, scale_factors=<RecordList(0 EmissionScale or EmssionMask, keys=[])>)\n",
      "1 | MEGAN_AEF_ACET: EmissionBase(name=MEGAN_AEF_ACET, filename=/home/ckeller/data/emis/MEGAN/nc/MEGANv2.1_AEF.geos.1x1.nc, var_name=AEF_ACETONE, ndim=2, units=kgC/m2/s, timeslicer=1985/1/1/0, species=ACET, category=1, hierarchy=1, datafield=None, scale_factors=<RecordList(0 EmissionScale or EmssionMask, keys=[])>)\n"
     ]
    }
   ],
   "source": [
    "megan_df = megan_ext.extension_data\n",
    "print megan_df"
   ]
  },
  {
   "cell_type": "markdown",
   "metadata": {},
   "source": [
    "Get all base emission fields in the HEMCO configuration: "
   ]
  },
  {
   "cell_type": "code",
   "execution_count": 14,
   "metadata": {
    "collapsed": false
   },
   "outputs": [
    {
     "ename": "TypeError",
     "evalue": "'NoneType' object is not iterable",
     "output_type": "error",
     "traceback": [
      "\u001b[1;31m---------------------------------------------------------------------------\u001b[0m",
      "\u001b[1;31mTypeError\u001b[0m                                 Traceback (most recent call last)",
      "\u001b[1;32m<ipython-input-14-48eb1caea42a>\u001b[0m in \u001b[0;36m<module>\u001b[1;34m()\u001b[0m\n\u001b[1;32m----> 1\u001b[1;33m \u001b[0mall_bef\u001b[0m \u001b[1;33m=\u001b[0m \u001b[0mhemco_setup\u001b[0m\u001b[1;33m.\u001b[0m\u001b[0mbase_emission_fields\u001b[0m\u001b[1;33m\u001b[0m\u001b[0m\n\u001b[0m\u001b[0;32m      2\u001b[0m \u001b[1;33m\u001b[0m\u001b[0m\n\u001b[0;32m      3\u001b[0m \u001b[1;31m# get the names of the base emission fields\u001b[0m\u001b[1;33m\u001b[0m\u001b[1;33m\u001b[0m\u001b[0m\n\u001b[0;32m      4\u001b[0m \u001b[1;32mprint\u001b[0m \u001b[0mall_bef\u001b[0m\u001b[1;33m.\u001b[0m\u001b[0mkeys\u001b[0m\u001b[1;33m\u001b[0m\u001b[0m\n",
      "\u001b[1;32m/home/bovy/GitRepos/PyGChem/pygchem/emissions.pyc\u001b[0m in \u001b[0;36mbase_emission_fields\u001b[1;34m(self)\u001b[0m\n\u001b[0;32m    288\u001b[0m         \u001b[0mbef\u001b[0m \u001b[1;33m=\u001b[0m \u001b[1;33m[\u001b[0m\u001b[1;33m]\u001b[0m\u001b[1;33m\u001b[0m\u001b[0m\n\u001b[0;32m    289\u001b[0m         \u001b[1;32mfor\u001b[0m \u001b[0mext\u001b[0m \u001b[1;32min\u001b[0m \u001b[0mself\u001b[0m\u001b[1;33m.\u001b[0m\u001b[0mextensions\u001b[0m\u001b[1;33m:\u001b[0m\u001b[1;33m\u001b[0m\u001b[0m\n\u001b[1;32m--> 290\u001b[1;33m             \u001b[0mbef\u001b[0m\u001b[1;33m.\u001b[0m\u001b[0mextend\u001b[0m\u001b[1;33m(\u001b[0m\u001b[0mext\u001b[0m\u001b[1;33m.\u001b[0m\u001b[0mbase_emission_fields\u001b[0m \u001b[1;33m+\u001b[0m \u001b[0mext\u001b[0m\u001b[1;33m.\u001b[0m\u001b[0mextension_data\u001b[0m\u001b[1;33m)\u001b[0m\u001b[1;33m\u001b[0m\u001b[0m\n\u001b[0m\u001b[0;32m    291\u001b[0m         return RecordList(bef, ref_classes=EmissionBase, read_only=True,\n\u001b[0;32m    292\u001b[0m                           key_attr='name')\n",
      "\u001b[1;31mTypeError\u001b[0m: 'NoneType' object is not iterable"
     ]
    }
   ],
   "source": [
    "all_bef = hemco_setup.base_emission_fields\n",
    "\n",
    "# get the names of the base emission fields\n",
    "print all_bef.keys"
   ]
  },
  {
   "cell_type": "code",
   "execution_count": 19,
   "metadata": {
    "collapsed": false
   },
   "outputs": [
    {
     "name": "stdout",
     "output_type": "stream",
     "text": [
      "EmissionExt(name=Core, enabled=True, base_emission_fields=<RecordList(304 EmissionBase, keys=['GEIA_ALK4', 'GEIA_ACET', 'GEIA_PRPE', 'GEIA_MEK', 'GEIA_NH3_ANTH', 'GEIA_NH3_BIOF', 'GEIA_NH3_NATU', ... , 'GFED3_CH4_WDL'])>, extension_data=<RecordList(0 EmissionBase, keys=[])>, species=None, settings={}, eid=0)\n",
      "None\n"
     ]
    },
    {
     "ename": "TypeError",
     "evalue": "'NoneType' object is not iterable",
     "output_type": "error",
     "traceback": [
      "\u001b[1;31m---------------------------------------------------------------------------\u001b[0m",
      "\u001b[1;31mTypeError\u001b[0m                                 Traceback (most recent call last)",
      "\u001b[1;32m<ipython-input-19-a9515ef37a30>\u001b[0m in \u001b[0;36m<module>\u001b[1;34m()\u001b[0m\n\u001b[0;32m      3\u001b[0m     \u001b[1;32mprint\u001b[0m \u001b[0mext\u001b[0m\u001b[1;33m\u001b[0m\u001b[0m\n\u001b[0;32m      4\u001b[0m     \u001b[1;32mprint\u001b[0m \u001b[0mext\u001b[0m\u001b[1;33m.\u001b[0m\u001b[0mextension_data\u001b[0m \u001b[1;33m+\u001b[0m \u001b[0mext\u001b[0m\u001b[1;33m.\u001b[0m\u001b[0mbase_emission_fields\u001b[0m\u001b[1;33m\u001b[0m\u001b[0m\n\u001b[1;32m----> 5\u001b[1;33m     \u001b[0mbef\u001b[0m\u001b[1;33m.\u001b[0m\u001b[0mextend\u001b[0m\u001b[1;33m(\u001b[0m\u001b[0mext\u001b[0m\u001b[1;33m.\u001b[0m\u001b[0mbase_emission_fields\u001b[0m \u001b[1;33m+\u001b[0m \u001b[0mext\u001b[0m\u001b[1;33m.\u001b[0m\u001b[0mextension_data\u001b[0m\u001b[1;33m)\u001b[0m\u001b[1;33m\u001b[0m\u001b[0m\n\u001b[0m",
      "\u001b[1;31mTypeError\u001b[0m: 'NoneType' object is not iterable"
     ]
    }
   ],
   "source": [
    "bef = []\n",
    "for ext in hemco_setup.extensions:\n",
    "    print ext\n",
    "    print ext.extension_data + ext.base_emission_fields\n",
    "    bef.extend(ext.base_emission_fields + ext.extension_data)"
   ]
  },
  {
   "cell_type": "code",
   "execution_count": null,
   "metadata": {
    "collapsed": true
   },
   "outputs": [],
   "source": []
  }
 ],
 "metadata": {
  "kernelspec": {
   "display_name": "PyGChem Git Master (py27)",
   "language": "python",
   "name": "pygchemgitmaster_py27"
  },
  "language_info": {
   "codemirror_mode": {
    "name": "ipython",
    "version": 2
   },
   "file_extension": ".py",
   "mimetype": "text/x-python",
   "name": "python",
   "nbconvert_exporter": "python",
   "pygments_lexer": "ipython2",
   "version": "2.7.9"
  }
 },
 "nbformat": 4,
 "nbformat_minor": 0
}
