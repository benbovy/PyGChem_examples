{
 "metadata": {
  "name": "",
  "signature": "sha256:cf2457e6ab47631973a1c9e503b2575f5ae087b7c838a2e22ba8d51b925c154e"
 },
 "nbformat": 3,
 "nbformat_minor": 0,
 "worksheets": [
  {
   "cells": [
    {
     "cell_type": "markdown",
     "metadata": {},
     "source": [
      "![pygchem_logo](images/pygchem_logo.svg)"
     ]
    },
    {
     "cell_type": "heading",
     "level": 1,
     "metadata": {},
     "source": [
      "PyGChem Documentation"
     ]
    },
    {
     "cell_type": "markdown",
     "metadata": {},
     "source": [
      "This is the PyGChem's notebook-based documentation, which includes interactive tutorials and examples.\n",
      "\n",
      "The complete reference documentation will be available soon."
     ]
    },
    {
     "cell_type": "heading",
     "level": 2,
     "metadata": {},
     "source": [
      "Topics"
     ]
    },
    {
     "cell_type": "markdown",
     "metadata": {},
     "source": [
      "- [Installing PyGChem](Installation.ipynb)\n",
      "- [Tutorials](Tutorials/Index.ipynb)\n",
      "- [Examples](Examples/Index.ipynb)"
     ]
    },
    {
     "cell_type": "heading",
     "level": 2,
     "metadata": {},
     "source": [
      "Downloading and running the tutorials and examples"
     ]
    },
    {
     "cell_type": "markdown",
     "metadata": {},
     "source": [
      "It is possible to download and run the tutorials and examples presented here. It requires to install [IPython](http://ipython.org/). Note that if you installed PyGChem via [conda](http://conda.pydata.org/), IPython should be already installed as a dependency.\n",
      "\n",
      "To download the tutorials/examples using `git`:\n",
      "\n",
      "    git clone https://github.com/benbovy/PyGChem_examples.git\n",
      "\n",
      "Then `cd` into the cloned repository and start the IPython notebook server (if you use conda, don't forget to first activate the virtual environment in which PyGChem and IPython are installed):\n",
      "\n",
      "    cd PyGChem_examples\n",
      "    ipython notebook\n",
      "\n",
      "It should open a new tab in your default browser with the notebook dashboard (a recent browser - firefox, chrome... - is required)."
     ]
    }
   ],
   "metadata": {}
  }
 ]
}