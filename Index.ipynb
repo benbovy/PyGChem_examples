{
 "cells": [
  {
   "cell_type": "markdown",
   "metadata": {},
   "source": [
    "![pygchem_logo](images/pygchem_logo.svg)"
   ]
  },
  {
   "cell_type": "markdown",
   "metadata": {},
   "source": [
    "# PyGChem Documentation"
   ]
  },
  {
   "cell_type": "markdown",
   "metadata": {},
   "source": [
    "**Important note: PyGChem is not maintained anymore. Alternatively, for\n",
    "reading bpch files using the Python scientific stack you might have a look\n",
    "at [xbpch](https://github.com/darothen/xbpch), which is more up-to-date and\n",
    "uses [xarray](http://xarray.pydata.org/en/stable/).**\n",
    "\n",
    "This is the PyGChem's notebook-based documentation, which includes interactive tutorials and examples.\n",
    "\n",
    "The complete reference documentation will be available soon."
   ]
  },
  {
   "cell_type": "markdown",
   "metadata": {},
   "source": [
    "## Topics"
   ]
  },
  {
   "cell_type": "markdown",
   "metadata": {},
   "source": [
    "- [Installing PyGChem](Installation.ipynb)\n",
    "- [Tutorials](Tutorials/Index.ipynb)\n",
    "- [Examples](Examples/Index.ipynb)"
   ]
  },
  {
   "cell_type": "markdown",
   "metadata": {},
   "source": [
    "## Downloading and running the tutorials and examples"
   ]
  },
  {
   "cell_type": "markdown",
   "metadata": {},
   "source": [
    "It is possible to download and run the tutorials and examples presented here. It requires to install [IPython](http://ipython.org/). Note that if you installed PyGChem via [conda](http://conda.pydata.org/), IPython should be already installed as a dependency.\n",
    "\n",
    "To download the tutorials/examples using `git`:\n",
    "\n",
    "    git clone https://github.com/benbovy/PyGChem_examples.git\n",
    "\n",
    "Then `cd` into the cloned repository and start the IPython notebook server (if you use conda, don't forget to first activate the virtual environment in which PyGChem and IPython are installed):\n",
    "\n",
    "    cd PyGChem_examples\n",
    "    ipython notebook\n",
    "\n",
    "It should open a new tab in your default browser with the notebook dashboard (a recent browser - firefox, chrome... - is required)."
   ]
  }
 ],
 "metadata": {
  "kernelspec": {
   "display_name": "",
   "name": ""
  },
  "language_info": {
   "name": ""
  }
 },
 "nbformat": 4,
 "nbformat_minor": 2
}
