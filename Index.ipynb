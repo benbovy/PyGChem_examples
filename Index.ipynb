{
 "metadata": {
  "name": "",
  "signature": "sha256:2f7ea8524f6f924b84695b1e08baf47c42976aa1449db06be3a163d332793795"
 },
 "nbformat": 3,
 "nbformat_minor": 0,
 "worksheets": [
  {
   "cells": [
    {
     "cell_type": "markdown",
     "metadata": {},
     "source": [
      "![pygchem_logo](images/pygchem_logo.svg)"
     ]
    },
    {
     "cell_type": "heading",
     "level": 1,
     "metadata": {},
     "source": [
      "PyGChem Documentation"
     ]
    },
    {
     "cell_type": "markdown",
     "metadata": {},
     "source": [
      "This is the PyGChem's notebook-based documentation, which includes interactive tutorials and examples.\n",
      "\n",
      "The complete reference documentation will be available soon."
     ]
    },
    {
     "cell_type": "heading",
     "level": 2,
     "metadata": {},
     "source": [
      "Topics"
     ]
    },
    {
     "cell_type": "markdown",
     "metadata": {},
     "source": [
      "- [Installing PyGChem](Installation.ipynb)\n",
      "- [Tutorials](Tutorials/Index.ipynb)\n",
      "- [Examples](Examples/Index.ipynb)"
     ]
    }
   ],
   "metadata": {}
  }
 ]
}