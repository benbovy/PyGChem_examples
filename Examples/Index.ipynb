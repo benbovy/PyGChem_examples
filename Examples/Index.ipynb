{
 "metadata": {
  "name": "",
  "signature": "sha256:0c2078a3be8bbca0b98f6856e6bd2bbcc1de908294a42847f2ce8e1b28db2178"
 },
 "nbformat": 3,
 "nbformat_minor": 0,
 "worksheets": [
  {
   "cells": [
    {
     "cell_type": "heading",
     "level": 1,
     "metadata": {},
     "source": [
      "PyGChem Examples"
     ]
    },
    {
     "cell_type": "markdown",
     "metadata": {},
     "source": [
      "This folder contains various scripts and/or notebooks as examples of PyGChem usage for specific tasks."
     ]
    },
    {
     "cell_type": "heading",
     "level": 2,
     "metadata": {},
     "source": [
      "Example list"
     ]
    },
    {
     "cell_type": "markdown",
     "metadata": {},
     "source": [
      "- [Topography_Regridding](Topography_Regridding.ipynb): Use the GDAL and Iris packages to regrid high-resolution topographic data onto the grids used by the GEOS-Chem simulations.\n"
     ]
    }
   ],
   "metadata": {}
  }
 ]
}